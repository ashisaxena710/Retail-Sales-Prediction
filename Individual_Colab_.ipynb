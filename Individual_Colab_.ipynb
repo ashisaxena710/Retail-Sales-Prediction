{
  "nbformat": 4,
  "nbformat_minor": 0,
  "metadata": {
    "colab": {
      "provenance": [],
      "mount_file_id": "1SdbboA4-a_fJ14Zxxo2g_amG50FNJEei",
      "authorship_tag": "ABX9TyN+6bWyZsf5PN6RrziIakbJ",
      "include_colab_link": true
    },
    "kernelspec": {
      "name": "python3",
      "display_name": "Python 3"
    },
    "language_info": {
      "name": "python"
    }
  },
  "cells": [
    {
      "cell_type": "markdown",
      "metadata": {
        "id": "view-in-github",
        "colab_type": "text"
      },
      "source": [
        "<a href=\"https://colab.research.google.com/github/ashisaxena710/Retail-Sales-Prediction/blob/main/Individual_Colab_.ipynb\" target=\"_parent\"><img src=\"https://colab.research.google.com/assets/colab-badge.svg\" alt=\"Open In Colab\"/></a>"
      ]
    },
    {
      "cell_type": "markdown",
      "source": [
        "# **Project Name**    - Retail Sales Prediction\n",
        "\n"
      ],
      "metadata": {
        "id": "vncDsAP0Gaoa"
      }
    },
    {
      "cell_type": "markdown",
      "source": [
        "##### **Project Type**    - Regression\n",
        "##### **Contribution**    - Individual"
      ],
      "metadata": {
        "id": "S6x5_LKHubmo"
      }
    },
    {
      "cell_type": "markdown",
      "source": [
        "# **Problem Statement**\n"
      ],
      "metadata": {
        "id": "yQaldy8SH6Dl"
      }
    },
    {
      "cell_type": "markdown",
      "source": [
        "Rossmann operates over 3,000 drug stores in 7 European countries. Currently, Rossmann store managers are tasked with predicting their daily sales for up to six weeks in advance. Store sales are influenced by many factors, including promotions, competition, school and state holidays, seasonality, and locality. With thousands of individual managers predicting sales based on their unique circumstances, the accuracy of results can be quite varied. You are provided with historical sales data for 1,115 Rossmann stores. The task is to forecast the \"Sales\" column for the test set. Note that some stores in the dataset were temporarily closed for refurbishment."
      ],
      "metadata": {
        "id": "TSQSW8JtvKEH"
      }
    },
    {
      "cell_type": "markdown",
      "source": [
        "## ***1. Knowing Data***"
      ],
      "metadata": {
        "id": "HhfV-JJviCcP"
      }
    },
    {
      "cell_type": "markdown",
      "source": [
        "### Import Libraries"
      ],
      "metadata": {
        "id": "Y3lxredqlCYt"
      }
    },
    {
      "cell_type": "code",
      "source": [
        "# Importing important libraries\n",
        "import numpy as np\n",
        "import pandas as pd\n",
        "import matplotlib.pyplot as plt\n",
        "import seaborn as sns\n",
        "\n",
        "# Adding this to ignore future warnings\n",
        "import warnings\n",
        "warnings.filterwarnings('ignore')"
      ],
      "metadata": {
        "id": "WYLjeU0qu1ye"
      },
      "execution_count": 53,
      "outputs": []
    },
    {
      "cell_type": "markdown",
      "source": [
        "###  Loading Datasets"
      ],
      "metadata": {
        "id": "3RnN4peoiCZX"
      }
    },
    {
      "cell_type": "code",
      "source": [
        "rossmann_store_data=pd.read_csv(\"/content/drive/MyDrive/Colab Notebooks/Alma Better/Capstone Project 2 /Rossmann Stores Data.csv\",parse_dates=['Date'])\n",
        "store_data=pd.read_csv(\"/content/drive/MyDrive/Colab Notebooks/Alma Better/Capstone Project 2 /store.csv\")"
      ],
      "metadata": {
        "id": "II9ySK-mwrYG"
      },
      "execution_count": 54,
      "outputs": []
    },
    {
      "cell_type": "markdown",
      "source": [
        "### Viewing Datasets"
      ],
      "metadata": {
        "id": "ASu1JZpM1CSg"
      }
    },
    {
      "cell_type": "code",
      "source": [
        "rossmann_store_data"
      ],
      "metadata": {
        "colab": {
          "base_uri": "https://localhost:8080/",
          "height": 424
        },
        "id": "3Dp5U4ibxka2",
        "outputId": "0dbddbe1-47f3-4ac5-9697-a237a0cdd2ad"
      },
      "execution_count": 55,
      "outputs": [
        {
          "output_type": "execute_result",
          "data": {
            "text/plain": [
              "         Store  DayOfWeek       Date  Sales  Customers  Open  Promo  \\\n",
              "0            1          5 2015-07-31   5263        555     1      1   \n",
              "1            2          5 2015-07-31   6064        625     1      1   \n",
              "2            3          5 2015-07-31   8314        821     1      1   \n",
              "3            4          5 2015-07-31  13995       1498     1      1   \n",
              "4            5          5 2015-07-31   4822        559     1      1   \n",
              "...        ...        ...        ...    ...        ...   ...    ...   \n",
              "1017204   1111          2 2013-01-01      0          0     0      0   \n",
              "1017205   1112          2 2013-01-01      0          0     0      0   \n",
              "1017206   1113          2 2013-01-01      0          0     0      0   \n",
              "1017207   1114          2 2013-01-01      0          0     0      0   \n",
              "1017208   1115          2 2013-01-01      0          0     0      0   \n",
              "\n",
              "        StateHoliday  SchoolHoliday  \n",
              "0                  0              1  \n",
              "1                  0              1  \n",
              "2                  0              1  \n",
              "3                  0              1  \n",
              "4                  0              1  \n",
              "...              ...            ...  \n",
              "1017204            a              1  \n",
              "1017205            a              1  \n",
              "1017206            a              1  \n",
              "1017207            a              1  \n",
              "1017208            a              1  \n",
              "\n",
              "[1017209 rows x 9 columns]"
            ],
            "text/html": [
              "\n",
              "  <div id=\"df-e35f598c-d41a-4243-b477-e5ce19515062\">\n",
              "    <div class=\"colab-df-container\">\n",
              "      <div>\n",
              "<style scoped>\n",
              "    .dataframe tbody tr th:only-of-type {\n",
              "        vertical-align: middle;\n",
              "    }\n",
              "\n",
              "    .dataframe tbody tr th {\n",
              "        vertical-align: top;\n",
              "    }\n",
              "\n",
              "    .dataframe thead th {\n",
              "        text-align: right;\n",
              "    }\n",
              "</style>\n",
              "<table border=\"1\" class=\"dataframe\">\n",
              "  <thead>\n",
              "    <tr style=\"text-align: right;\">\n",
              "      <th></th>\n",
              "      <th>Store</th>\n",
              "      <th>DayOfWeek</th>\n",
              "      <th>Date</th>\n",
              "      <th>Sales</th>\n",
              "      <th>Customers</th>\n",
              "      <th>Open</th>\n",
              "      <th>Promo</th>\n",
              "      <th>StateHoliday</th>\n",
              "      <th>SchoolHoliday</th>\n",
              "    </tr>\n",
              "  </thead>\n",
              "  <tbody>\n",
              "    <tr>\n",
              "      <th>0</th>\n",
              "      <td>1</td>\n",
              "      <td>5</td>\n",
              "      <td>2015-07-31</td>\n",
              "      <td>5263</td>\n",
              "      <td>555</td>\n",
              "      <td>1</td>\n",
              "      <td>1</td>\n",
              "      <td>0</td>\n",
              "      <td>1</td>\n",
              "    </tr>\n",
              "    <tr>\n",
              "      <th>1</th>\n",
              "      <td>2</td>\n",
              "      <td>5</td>\n",
              "      <td>2015-07-31</td>\n",
              "      <td>6064</td>\n",
              "      <td>625</td>\n",
              "      <td>1</td>\n",
              "      <td>1</td>\n",
              "      <td>0</td>\n",
              "      <td>1</td>\n",
              "    </tr>\n",
              "    <tr>\n",
              "      <th>2</th>\n",
              "      <td>3</td>\n",
              "      <td>5</td>\n",
              "      <td>2015-07-31</td>\n",
              "      <td>8314</td>\n",
              "      <td>821</td>\n",
              "      <td>1</td>\n",
              "      <td>1</td>\n",
              "      <td>0</td>\n",
              "      <td>1</td>\n",
              "    </tr>\n",
              "    <tr>\n",
              "      <th>3</th>\n",
              "      <td>4</td>\n",
              "      <td>5</td>\n",
              "      <td>2015-07-31</td>\n",
              "      <td>13995</td>\n",
              "      <td>1498</td>\n",
              "      <td>1</td>\n",
              "      <td>1</td>\n",
              "      <td>0</td>\n",
              "      <td>1</td>\n",
              "    </tr>\n",
              "    <tr>\n",
              "      <th>4</th>\n",
              "      <td>5</td>\n",
              "      <td>5</td>\n",
              "      <td>2015-07-31</td>\n",
              "      <td>4822</td>\n",
              "      <td>559</td>\n",
              "      <td>1</td>\n",
              "      <td>1</td>\n",
              "      <td>0</td>\n",
              "      <td>1</td>\n",
              "    </tr>\n",
              "    <tr>\n",
              "      <th>...</th>\n",
              "      <td>...</td>\n",
              "      <td>...</td>\n",
              "      <td>...</td>\n",
              "      <td>...</td>\n",
              "      <td>...</td>\n",
              "      <td>...</td>\n",
              "      <td>...</td>\n",
              "      <td>...</td>\n",
              "      <td>...</td>\n",
              "    </tr>\n",
              "    <tr>\n",
              "      <th>1017204</th>\n",
              "      <td>1111</td>\n",
              "      <td>2</td>\n",
              "      <td>2013-01-01</td>\n",
              "      <td>0</td>\n",
              "      <td>0</td>\n",
              "      <td>0</td>\n",
              "      <td>0</td>\n",
              "      <td>a</td>\n",
              "      <td>1</td>\n",
              "    </tr>\n",
              "    <tr>\n",
              "      <th>1017205</th>\n",
              "      <td>1112</td>\n",
              "      <td>2</td>\n",
              "      <td>2013-01-01</td>\n",
              "      <td>0</td>\n",
              "      <td>0</td>\n",
              "      <td>0</td>\n",
              "      <td>0</td>\n",
              "      <td>a</td>\n",
              "      <td>1</td>\n",
              "    </tr>\n",
              "    <tr>\n",
              "      <th>1017206</th>\n",
              "      <td>1113</td>\n",
              "      <td>2</td>\n",
              "      <td>2013-01-01</td>\n",
              "      <td>0</td>\n",
              "      <td>0</td>\n",
              "      <td>0</td>\n",
              "      <td>0</td>\n",
              "      <td>a</td>\n",
              "      <td>1</td>\n",
              "    </tr>\n",
              "    <tr>\n",
              "      <th>1017207</th>\n",
              "      <td>1114</td>\n",
              "      <td>2</td>\n",
              "      <td>2013-01-01</td>\n",
              "      <td>0</td>\n",
              "      <td>0</td>\n",
              "      <td>0</td>\n",
              "      <td>0</td>\n",
              "      <td>a</td>\n",
              "      <td>1</td>\n",
              "    </tr>\n",
              "    <tr>\n",
              "      <th>1017208</th>\n",
              "      <td>1115</td>\n",
              "      <td>2</td>\n",
              "      <td>2013-01-01</td>\n",
              "      <td>0</td>\n",
              "      <td>0</td>\n",
              "      <td>0</td>\n",
              "      <td>0</td>\n",
              "      <td>a</td>\n",
              "      <td>1</td>\n",
              "    </tr>\n",
              "  </tbody>\n",
              "</table>\n",
              "<p>1017209 rows × 9 columns</p>\n",
              "</div>\n",
              "      <button class=\"colab-df-convert\" onclick=\"convertToInteractive('df-e35f598c-d41a-4243-b477-e5ce19515062')\"\n",
              "              title=\"Convert this dataframe to an interactive table.\"\n",
              "              style=\"display:none;\">\n",
              "        \n",
              "  <svg xmlns=\"http://www.w3.org/2000/svg\" height=\"24px\"viewBox=\"0 0 24 24\"\n",
              "       width=\"24px\">\n",
              "    <path d=\"M0 0h24v24H0V0z\" fill=\"none\"/>\n",
              "    <path d=\"M18.56 5.44l.94 2.06.94-2.06 2.06-.94-2.06-.94-.94-2.06-.94 2.06-2.06.94zm-11 1L8.5 8.5l.94-2.06 2.06-.94-2.06-.94L8.5 2.5l-.94 2.06-2.06.94zm10 10l.94 2.06.94-2.06 2.06-.94-2.06-.94-.94-2.06-.94 2.06-2.06.94z\"/><path d=\"M17.41 7.96l-1.37-1.37c-.4-.4-.92-.59-1.43-.59-.52 0-1.04.2-1.43.59L10.3 9.45l-7.72 7.72c-.78.78-.78 2.05 0 2.83L4 21.41c.39.39.9.59 1.41.59.51 0 1.02-.2 1.41-.59l7.78-7.78 2.81-2.81c.8-.78.8-2.07 0-2.86zM5.41 20L4 18.59l7.72-7.72 1.47 1.35L5.41 20z\"/>\n",
              "  </svg>\n",
              "      </button>\n",
              "      \n",
              "  <style>\n",
              "    .colab-df-container {\n",
              "      display:flex;\n",
              "      flex-wrap:wrap;\n",
              "      gap: 12px;\n",
              "    }\n",
              "\n",
              "    .colab-df-convert {\n",
              "      background-color: #E8F0FE;\n",
              "      border: none;\n",
              "      border-radius: 50%;\n",
              "      cursor: pointer;\n",
              "      display: none;\n",
              "      fill: #1967D2;\n",
              "      height: 32px;\n",
              "      padding: 0 0 0 0;\n",
              "      width: 32px;\n",
              "    }\n",
              "\n",
              "    .colab-df-convert:hover {\n",
              "      background-color: #E2EBFA;\n",
              "      box-shadow: 0px 1px 2px rgba(60, 64, 67, 0.3), 0px 1px 3px 1px rgba(60, 64, 67, 0.15);\n",
              "      fill: #174EA6;\n",
              "    }\n",
              "\n",
              "    [theme=dark] .colab-df-convert {\n",
              "      background-color: #3B4455;\n",
              "      fill: #D2E3FC;\n",
              "    }\n",
              "\n",
              "    [theme=dark] .colab-df-convert:hover {\n",
              "      background-color: #434B5C;\n",
              "      box-shadow: 0px 1px 3px 1px rgba(0, 0, 0, 0.15);\n",
              "      filter: drop-shadow(0px 1px 2px rgba(0, 0, 0, 0.3));\n",
              "      fill: #FFFFFF;\n",
              "    }\n",
              "  </style>\n",
              "\n",
              "      <script>\n",
              "        const buttonEl =\n",
              "          document.querySelector('#df-e35f598c-d41a-4243-b477-e5ce19515062 button.colab-df-convert');\n",
              "        buttonEl.style.display =\n",
              "          google.colab.kernel.accessAllowed ? 'block' : 'none';\n",
              "\n",
              "        async function convertToInteractive(key) {\n",
              "          const element = document.querySelector('#df-e35f598c-d41a-4243-b477-e5ce19515062');\n",
              "          const dataTable =\n",
              "            await google.colab.kernel.invokeFunction('convertToInteractive',\n",
              "                                                     [key], {});\n",
              "          if (!dataTable) return;\n",
              "\n",
              "          const docLinkHtml = 'Like what you see? Visit the ' +\n",
              "            '<a target=\"_blank\" href=https://colab.research.google.com/notebooks/data_table.ipynb>data table notebook</a>'\n",
              "            + ' to learn more about interactive tables.';\n",
              "          element.innerHTML = '';\n",
              "          dataTable['output_type'] = 'display_data';\n",
              "          await google.colab.output.renderOutput(dataTable, element);\n",
              "          const docLink = document.createElement('div');\n",
              "          docLink.innerHTML = docLinkHtml;\n",
              "          element.appendChild(docLink);\n",
              "        }\n",
              "      </script>\n",
              "    </div>\n",
              "  </div>\n",
              "  "
            ]
          },
          "metadata": {},
          "execution_count": 55
        }
      ]
    },
    {
      "cell_type": "code",
      "source": [
        "store_data"
      ],
      "metadata": {
        "colab": {
          "base_uri": "https://localhost:8080/",
          "height": 468
        },
        "id": "fTwnAOGgrfxz",
        "outputId": "39172ad6-3b7e-47b4-9114-4b2452f0cac5"
      },
      "execution_count": 56,
      "outputs": [
        {
          "output_type": "execute_result",
          "data": {
            "text/plain": [
              "      Store StoreType Assortment  CompetitionDistance  \\\n",
              "0         1         c          a               1270.0   \n",
              "1         2         a          a                570.0   \n",
              "2         3         a          a              14130.0   \n",
              "3         4         c          c                620.0   \n",
              "4         5         a          a              29910.0   \n",
              "...     ...       ...        ...                  ...   \n",
              "1110   1111         a          a               1900.0   \n",
              "1111   1112         c          c               1880.0   \n",
              "1112   1113         a          c               9260.0   \n",
              "1113   1114         a          c                870.0   \n",
              "1114   1115         d          c               5350.0   \n",
              "\n",
              "      CompetitionOpenSinceMonth  CompetitionOpenSinceYear  Promo2  \\\n",
              "0                           9.0                    2008.0       0   \n",
              "1                          11.0                    2007.0       1   \n",
              "2                          12.0                    2006.0       1   \n",
              "3                           9.0                    2009.0       0   \n",
              "4                           4.0                    2015.0       0   \n",
              "...                         ...                       ...     ...   \n",
              "1110                        6.0                    2014.0       1   \n",
              "1111                        4.0                    2006.0       0   \n",
              "1112                        NaN                       NaN       0   \n",
              "1113                        NaN                       NaN       0   \n",
              "1114                        NaN                       NaN       1   \n",
              "\n",
              "      Promo2SinceWeek  Promo2SinceYear     PromoInterval  \n",
              "0                 NaN              NaN               NaN  \n",
              "1                13.0           2010.0   Jan,Apr,Jul,Oct  \n",
              "2                14.0           2011.0   Jan,Apr,Jul,Oct  \n",
              "3                 NaN              NaN               NaN  \n",
              "4                 NaN              NaN               NaN  \n",
              "...               ...              ...               ...  \n",
              "1110             31.0           2013.0   Jan,Apr,Jul,Oct  \n",
              "1111              NaN              NaN               NaN  \n",
              "1112              NaN              NaN               NaN  \n",
              "1113              NaN              NaN               NaN  \n",
              "1114             22.0           2012.0  Mar,Jun,Sept,Dec  \n",
              "\n",
              "[1115 rows x 10 columns]"
            ],
            "text/html": [
              "\n",
              "  <div id=\"df-0432080a-e91c-49df-aaa6-adbbcb457ba1\">\n",
              "    <div class=\"colab-df-container\">\n",
              "      <div>\n",
              "<style scoped>\n",
              "    .dataframe tbody tr th:only-of-type {\n",
              "        vertical-align: middle;\n",
              "    }\n",
              "\n",
              "    .dataframe tbody tr th {\n",
              "        vertical-align: top;\n",
              "    }\n",
              "\n",
              "    .dataframe thead th {\n",
              "        text-align: right;\n",
              "    }\n",
              "</style>\n",
              "<table border=\"1\" class=\"dataframe\">\n",
              "  <thead>\n",
              "    <tr style=\"text-align: right;\">\n",
              "      <th></th>\n",
              "      <th>Store</th>\n",
              "      <th>StoreType</th>\n",
              "      <th>Assortment</th>\n",
              "      <th>CompetitionDistance</th>\n",
              "      <th>CompetitionOpenSinceMonth</th>\n",
              "      <th>CompetitionOpenSinceYear</th>\n",
              "      <th>Promo2</th>\n",
              "      <th>Promo2SinceWeek</th>\n",
              "      <th>Promo2SinceYear</th>\n",
              "      <th>PromoInterval</th>\n",
              "    </tr>\n",
              "  </thead>\n",
              "  <tbody>\n",
              "    <tr>\n",
              "      <th>0</th>\n",
              "      <td>1</td>\n",
              "      <td>c</td>\n",
              "      <td>a</td>\n",
              "      <td>1270.0</td>\n",
              "      <td>9.0</td>\n",
              "      <td>2008.0</td>\n",
              "      <td>0</td>\n",
              "      <td>NaN</td>\n",
              "      <td>NaN</td>\n",
              "      <td>NaN</td>\n",
              "    </tr>\n",
              "    <tr>\n",
              "      <th>1</th>\n",
              "      <td>2</td>\n",
              "      <td>a</td>\n",
              "      <td>a</td>\n",
              "      <td>570.0</td>\n",
              "      <td>11.0</td>\n",
              "      <td>2007.0</td>\n",
              "      <td>1</td>\n",
              "      <td>13.0</td>\n",
              "      <td>2010.0</td>\n",
              "      <td>Jan,Apr,Jul,Oct</td>\n",
              "    </tr>\n",
              "    <tr>\n",
              "      <th>2</th>\n",
              "      <td>3</td>\n",
              "      <td>a</td>\n",
              "      <td>a</td>\n",
              "      <td>14130.0</td>\n",
              "      <td>12.0</td>\n",
              "      <td>2006.0</td>\n",
              "      <td>1</td>\n",
              "      <td>14.0</td>\n",
              "      <td>2011.0</td>\n",
              "      <td>Jan,Apr,Jul,Oct</td>\n",
              "    </tr>\n",
              "    <tr>\n",
              "      <th>3</th>\n",
              "      <td>4</td>\n",
              "      <td>c</td>\n",
              "      <td>c</td>\n",
              "      <td>620.0</td>\n",
              "      <td>9.0</td>\n",
              "      <td>2009.0</td>\n",
              "      <td>0</td>\n",
              "      <td>NaN</td>\n",
              "      <td>NaN</td>\n",
              "      <td>NaN</td>\n",
              "    </tr>\n",
              "    <tr>\n",
              "      <th>4</th>\n",
              "      <td>5</td>\n",
              "      <td>a</td>\n",
              "      <td>a</td>\n",
              "      <td>29910.0</td>\n",
              "      <td>4.0</td>\n",
              "      <td>2015.0</td>\n",
              "      <td>0</td>\n",
              "      <td>NaN</td>\n",
              "      <td>NaN</td>\n",
              "      <td>NaN</td>\n",
              "    </tr>\n",
              "    <tr>\n",
              "      <th>...</th>\n",
              "      <td>...</td>\n",
              "      <td>...</td>\n",
              "      <td>...</td>\n",
              "      <td>...</td>\n",
              "      <td>...</td>\n",
              "      <td>...</td>\n",
              "      <td>...</td>\n",
              "      <td>...</td>\n",
              "      <td>...</td>\n",
              "      <td>...</td>\n",
              "    </tr>\n",
              "    <tr>\n",
              "      <th>1110</th>\n",
              "      <td>1111</td>\n",
              "      <td>a</td>\n",
              "      <td>a</td>\n",
              "      <td>1900.0</td>\n",
              "      <td>6.0</td>\n",
              "      <td>2014.0</td>\n",
              "      <td>1</td>\n",
              "      <td>31.0</td>\n",
              "      <td>2013.0</td>\n",
              "      <td>Jan,Apr,Jul,Oct</td>\n",
              "    </tr>\n",
              "    <tr>\n",
              "      <th>1111</th>\n",
              "      <td>1112</td>\n",
              "      <td>c</td>\n",
              "      <td>c</td>\n",
              "      <td>1880.0</td>\n",
              "      <td>4.0</td>\n",
              "      <td>2006.0</td>\n",
              "      <td>0</td>\n",
              "      <td>NaN</td>\n",
              "      <td>NaN</td>\n",
              "      <td>NaN</td>\n",
              "    </tr>\n",
              "    <tr>\n",
              "      <th>1112</th>\n",
              "      <td>1113</td>\n",
              "      <td>a</td>\n",
              "      <td>c</td>\n",
              "      <td>9260.0</td>\n",
              "      <td>NaN</td>\n",
              "      <td>NaN</td>\n",
              "      <td>0</td>\n",
              "      <td>NaN</td>\n",
              "      <td>NaN</td>\n",
              "      <td>NaN</td>\n",
              "    </tr>\n",
              "    <tr>\n",
              "      <th>1113</th>\n",
              "      <td>1114</td>\n",
              "      <td>a</td>\n",
              "      <td>c</td>\n",
              "      <td>870.0</td>\n",
              "      <td>NaN</td>\n",
              "      <td>NaN</td>\n",
              "      <td>0</td>\n",
              "      <td>NaN</td>\n",
              "      <td>NaN</td>\n",
              "      <td>NaN</td>\n",
              "    </tr>\n",
              "    <tr>\n",
              "      <th>1114</th>\n",
              "      <td>1115</td>\n",
              "      <td>d</td>\n",
              "      <td>c</td>\n",
              "      <td>5350.0</td>\n",
              "      <td>NaN</td>\n",
              "      <td>NaN</td>\n",
              "      <td>1</td>\n",
              "      <td>22.0</td>\n",
              "      <td>2012.0</td>\n",
              "      <td>Mar,Jun,Sept,Dec</td>\n",
              "    </tr>\n",
              "  </tbody>\n",
              "</table>\n",
              "<p>1115 rows × 10 columns</p>\n",
              "</div>\n",
              "      <button class=\"colab-df-convert\" onclick=\"convertToInteractive('df-0432080a-e91c-49df-aaa6-adbbcb457ba1')\"\n",
              "              title=\"Convert this dataframe to an interactive table.\"\n",
              "              style=\"display:none;\">\n",
              "        \n",
              "  <svg xmlns=\"http://www.w3.org/2000/svg\" height=\"24px\"viewBox=\"0 0 24 24\"\n",
              "       width=\"24px\">\n",
              "    <path d=\"M0 0h24v24H0V0z\" fill=\"none\"/>\n",
              "    <path d=\"M18.56 5.44l.94 2.06.94-2.06 2.06-.94-2.06-.94-.94-2.06-.94 2.06-2.06.94zm-11 1L8.5 8.5l.94-2.06 2.06-.94-2.06-.94L8.5 2.5l-.94 2.06-2.06.94zm10 10l.94 2.06.94-2.06 2.06-.94-2.06-.94-.94-2.06-.94 2.06-2.06.94z\"/><path d=\"M17.41 7.96l-1.37-1.37c-.4-.4-.92-.59-1.43-.59-.52 0-1.04.2-1.43.59L10.3 9.45l-7.72 7.72c-.78.78-.78 2.05 0 2.83L4 21.41c.39.39.9.59 1.41.59.51 0 1.02-.2 1.41-.59l7.78-7.78 2.81-2.81c.8-.78.8-2.07 0-2.86zM5.41 20L4 18.59l7.72-7.72 1.47 1.35L5.41 20z\"/>\n",
              "  </svg>\n",
              "      </button>\n",
              "      \n",
              "  <style>\n",
              "    .colab-df-container {\n",
              "      display:flex;\n",
              "      flex-wrap:wrap;\n",
              "      gap: 12px;\n",
              "    }\n",
              "\n",
              "    .colab-df-convert {\n",
              "      background-color: #E8F0FE;\n",
              "      border: none;\n",
              "      border-radius: 50%;\n",
              "      cursor: pointer;\n",
              "      display: none;\n",
              "      fill: #1967D2;\n",
              "      height: 32px;\n",
              "      padding: 0 0 0 0;\n",
              "      width: 32px;\n",
              "    }\n",
              "\n",
              "    .colab-df-convert:hover {\n",
              "      background-color: #E2EBFA;\n",
              "      box-shadow: 0px 1px 2px rgba(60, 64, 67, 0.3), 0px 1px 3px 1px rgba(60, 64, 67, 0.15);\n",
              "      fill: #174EA6;\n",
              "    }\n",
              "\n",
              "    [theme=dark] .colab-df-convert {\n",
              "      background-color: #3B4455;\n",
              "      fill: #D2E3FC;\n",
              "    }\n",
              "\n",
              "    [theme=dark] .colab-df-convert:hover {\n",
              "      background-color: #434B5C;\n",
              "      box-shadow: 0px 1px 3px 1px rgba(0, 0, 0, 0.15);\n",
              "      filter: drop-shadow(0px 1px 2px rgba(0, 0, 0, 0.3));\n",
              "      fill: #FFFFFF;\n",
              "    }\n",
              "  </style>\n",
              "\n",
              "      <script>\n",
              "        const buttonEl =\n",
              "          document.querySelector('#df-0432080a-e91c-49df-aaa6-adbbcb457ba1 button.colab-df-convert');\n",
              "        buttonEl.style.display =\n",
              "          google.colab.kernel.accessAllowed ? 'block' : 'none';\n",
              "\n",
              "        async function convertToInteractive(key) {\n",
              "          const element = document.querySelector('#df-0432080a-e91c-49df-aaa6-adbbcb457ba1');\n",
              "          const dataTable =\n",
              "            await google.colab.kernel.invokeFunction('convertToInteractive',\n",
              "                                                     [key], {});\n",
              "          if (!dataTable) return;\n",
              "\n",
              "          const docLinkHtml = 'Like what you see? Visit the ' +\n",
              "            '<a target=\"_blank\" href=https://colab.research.google.com/notebooks/data_table.ipynb>data table notebook</a>'\n",
              "            + ' to learn more about interactive tables.';\n",
              "          element.innerHTML = '';\n",
              "          dataTable['output_type'] = 'display_data';\n",
              "          await google.colab.output.renderOutput(dataTable, element);\n",
              "          const docLink = document.createElement('div');\n",
              "          docLink.innerHTML = docLinkHtml;\n",
              "          element.appendChild(docLink);\n",
              "        }\n",
              "      </script>\n",
              "    </div>\n",
              "  </div>\n",
              "  "
            ]
          },
          "metadata": {},
          "execution_count": 56
        }
      ]
    },
    {
      "cell_type": "markdown",
      "source": [
        "### Dataset Rows & Columns count"
      ],
      "metadata": {
        "id": "7hBIi_osiCS2"
      }
    },
    {
      "cell_type": "code",
      "source": [
        "print(\"The shape of Rossmann Store Dataset is\",rossmann_store_data.shape ,\"\\nThe shape of Store Dataset is\" ,store_data.shape)"
      ],
      "metadata": {
        "colab": {
          "base_uri": "https://localhost:8080/"
        },
        "id": "4BB7eOiyWtVd",
        "outputId": "81757437-f176-439d-d218-3690af742af4"
      },
      "execution_count": 57,
      "outputs": [
        {
          "output_type": "stream",
          "name": "stdout",
          "text": [
            "The shape of Rossmann Store Dataset is (1017209, 9) \n",
            "The shape of Store Dataset is (1115, 10)\n"
          ]
        }
      ]
    },
    {
      "cell_type": "markdown",
      "source": [
        "### Dataset Information"
      ],
      "metadata": {
        "id": "JlHwYmJAmNHm"
      }
    },
    {
      "cell_type": "code",
      "source": [
        "rossmann_store_data.info()"
      ],
      "metadata": {
        "colab": {
          "base_uri": "https://localhost:8080/"
        },
        "id": "tZi41h1YyEsx",
        "outputId": "30968c69-ddce-4c73-87ca-136d8d75ccf5"
      },
      "execution_count": 58,
      "outputs": [
        {
          "output_type": "stream",
          "name": "stdout",
          "text": [
            "<class 'pandas.core.frame.DataFrame'>\n",
            "RangeIndex: 1017209 entries, 0 to 1017208\n",
            "Data columns (total 9 columns):\n",
            " #   Column         Non-Null Count    Dtype         \n",
            "---  ------         --------------    -----         \n",
            " 0   Store          1017209 non-null  int64         \n",
            " 1   DayOfWeek      1017209 non-null  int64         \n",
            " 2   Date           1017209 non-null  datetime64[ns]\n",
            " 3   Sales          1017209 non-null  int64         \n",
            " 4   Customers      1017209 non-null  int64         \n",
            " 5   Open           1017209 non-null  int64         \n",
            " 6   Promo          1017209 non-null  int64         \n",
            " 7   StateHoliday   1017209 non-null  object        \n",
            " 8   SchoolHoliday  1017209 non-null  int64         \n",
            "dtypes: datetime64[ns](1), int64(7), object(1)\n",
            "memory usage: 69.8+ MB\n"
          ]
        }
      ]
    },
    {
      "cell_type": "markdown",
      "source": [
        "Great! we have no null values in this dataset."
      ],
      "metadata": {
        "id": "-rMmEI8JyaWO"
      }
    },
    {
      "cell_type": "code",
      "source": [
        "store_data.info()"
      ],
      "metadata": {
        "colab": {
          "base_uri": "https://localhost:8080/"
        },
        "id": "5KOpIs4E1eYI",
        "outputId": "65444136-6d4d-47ae-a01d-dfa15d03865e"
      },
      "execution_count": 59,
      "outputs": [
        {
          "output_type": "stream",
          "name": "stdout",
          "text": [
            "<class 'pandas.core.frame.DataFrame'>\n",
            "RangeIndex: 1115 entries, 0 to 1114\n",
            "Data columns (total 10 columns):\n",
            " #   Column                     Non-Null Count  Dtype  \n",
            "---  ------                     --------------  -----  \n",
            " 0   Store                      1115 non-null   int64  \n",
            " 1   StoreType                  1115 non-null   object \n",
            " 2   Assortment                 1115 non-null   object \n",
            " 3   CompetitionDistance        1112 non-null   float64\n",
            " 4   CompetitionOpenSinceMonth  761 non-null    float64\n",
            " 5   CompetitionOpenSinceYear   761 non-null    float64\n",
            " 6   Promo2                     1115 non-null   int64  \n",
            " 7   Promo2SinceWeek            571 non-null    float64\n",
            " 8   Promo2SinceYear            571 non-null    float64\n",
            " 9   PromoInterval              571 non-null    object \n",
            "dtypes: float64(5), int64(2), object(3)\n",
            "memory usage: 87.2+ KB\n"
          ]
        }
      ]
    },
    {
      "cell_type": "markdown",
      "source": [
        "#### Duplicate Values"
      ],
      "metadata": {
        "id": "35m5QtbWiB9F"
      }
    },
    {
      "cell_type": "code",
      "source": [
        "print(\"The number of duplicate values present in Rossmann Store Dataset is\",rossmann_store_data.duplicated().sum(),\"\\nThe number of duplicate values present in Store Dataset is\",rossmann_store_data.duplicated().sum())"
      ],
      "metadata": {
        "colab": {
          "base_uri": "https://localhost:8080/"
        },
        "id": "P73iniC5XvbN",
        "outputId": "d6cacd4c-07fa-441a-8b36-58353f214442"
      },
      "execution_count": 60,
      "outputs": [
        {
          "output_type": "stream",
          "name": "stdout",
          "text": [
            "The number of duplicate values present in Rossmann Store Dataset is 0 \n",
            "The number of duplicate values present in Store Dataset is 0\n"
          ]
        }
      ]
    },
    {
      "cell_type": "markdown",
      "source": [
        "Great! No duplicate values are there in our both the datsets."
      ],
      "metadata": {
        "id": "u9glFMnvr0hI"
      }
    },
    {
      "cell_type": "markdown",
      "source": [
        "#### Missing Values/Null Values"
      ],
      "metadata": {
        "id": "PoPl-ycgm1ru"
      }
    },
    {
      "cell_type": "markdown",
      "source": [
        "Above we saw that there are no null values in Rossmann dataset . But we do have null values in Store datset ."
      ],
      "metadata": {
        "id": "zhMxB5BxZVKX"
      }
    },
    {
      "cell_type": "code",
      "source": [
        "# Missing Values/Null Values Count\n",
        "store_data.isna().sum()"
      ],
      "metadata": {
        "colab": {
          "base_uri": "https://localhost:8080/"
        },
        "id": "FssK8j041l6z",
        "outputId": "3f76e341-0ee1-4fb1-e000-7c1f6904f40d"
      },
      "execution_count": 61,
      "outputs": [
        {
          "output_type": "execute_result",
          "data": {
            "text/plain": [
              "Store                          0\n",
              "StoreType                      0\n",
              "Assortment                     0\n",
              "CompetitionDistance            3\n",
              "CompetitionOpenSinceMonth    354\n",
              "CompetitionOpenSinceYear     354\n",
              "Promo2                         0\n",
              "Promo2SinceWeek              544\n",
              "Promo2SinceYear              544\n",
              "PromoInterval                544\n",
              "dtype: int64"
            ]
          },
          "metadata": {},
          "execution_count": 61
        }
      ]
    },
    {
      "cell_type": "code",
      "source": [
        "# Visualizing the missing values\n",
        "plt.figure(figsize=(10,6))\n",
        "sns.displot(\n",
        "    data=store_data.isna().melt(value_name=\"missing\"),\n",
        "    y=\"variable\",\n",
        "    hue=\"missing\",\n",
        "    multiple=\"fill\",\n",
        "    aspect=1.25\n",
        ")\n",
        "plt.savefig(\"visualizing_missing_data_with_barplot_Seaborn_distplot.png\", dpi=100)\n"
      ],
      "metadata": {
        "colab": {
          "base_uri": "https://localhost:8080/",
          "height": 386
        },
        "id": "v9Vhu5aha2x5",
        "outputId": "b39affdd-da58-46de-9ec7-ac572c52b181"
      },
      "execution_count": 62,
      "outputs": [
        {
          "output_type": "display_data",
          "data": {
            "text/plain": [
              "<Figure size 720x432 with 0 Axes>"
            ]
          },
          "metadata": {}
        },
        {
          "output_type": "display_data",
          "data": {
            "text/plain": [
              "<Figure size 511.25x360 with 1 Axes>"
            ],
            "image/png": "[encoded data removed]"
          },
          "metadata": {
            "needs_background": "light"
          }
        }
      ]
    },
    {
      "cell_type": "markdown",
      "source": [
        "### What did you know about your dataset?"
      ],
      "metadata": {
        "id": "H0kj-8xxnORC"
      }
    },
    {
      "cell_type": "markdown",
      "source": [
        "Answer Here"
      ],
      "metadata": {
        "id": "gfoNAAC-nUe_"
      }
    },
    {
      "cell_type": "markdown",
      "source": [
        "## ***2. Understanding Your Variables***"
      ],
      "metadata": {
        "id": "nA9Y7ga8ng1Z"
      }
    },
    {
      "cell_type": "code",
      "source": [
        "# Dataset Columns\n",
        "print(\"List of columns of Rossmann Dataset :\\n\" ,list(rossmann_store_data.columns))\n",
        "print(\"\\n\")\n",
        "print(\"List of columns of tore Dataset :\\n\" ,list(store_data.columns))"
      ],
      "metadata": {
        "colab": {
          "base_uri": "https://localhost:8080/"
        },
        "id": "Vm6dYkYwhjjH",
        "outputId": "385d4eb9-23f1-4acd-ce4b-f6b90e90061c"
      },
      "execution_count": 63,
      "outputs": [
        {
          "output_type": "stream",
          "name": "stdout",
          "text": [
            "List of columns of Rossmann Dataset :\n",
            " ['Store', 'DayOfWeek', 'Date', 'Sales', 'Customers', 'Open', 'Promo', 'StateHoliday', 'SchoolHoliday']\n",
            "\n",
            "\n",
            "List of columns of tore Dataset :\n",
            " ['Store', 'StoreType', 'Assortment', 'CompetitionDistance', 'CompetitionOpenSinceMonth', 'CompetitionOpenSinceYear', 'Promo2', 'Promo2SinceWeek', 'Promo2SinceYear', 'PromoInterval']\n"
          ]
        }
      ]
    },
    {
      "cell_type": "code",
      "source": [
        "# Dataset Describe\n",
        "rossmann_store_data.describe()"
      ],
      "metadata": {
        "id": "DnOaZdaE5Q5t",
        "colab": {
          "base_uri": "https://localhost:8080/",
          "height": 300
        },
        "outputId": "051e0485-82bf-4de8-ef2e-00380dcd4e96"
      },
      "execution_count": 64,
      "outputs": [
        {
          "output_type": "execute_result",
          "data": {
            "text/plain": [
              "              Store     DayOfWeek         Sales     Customers          Open  \\\n",
              "count  1.017209e+06  1.017209e+06  1.017209e+06  1.017209e+06  1.017209e+06   \n",
              "mean   5.584297e+02  3.998341e+00  5.773819e+03  6.331459e+02  8.301067e-01   \n",
              "std    3.219087e+02  1.997391e+00  3.849926e+03  4.644117e+02  3.755392e-01   \n",
              "min    1.000000e+00  1.000000e+00  0.000000e+00  0.000000e+00  0.000000e+00   \n",
              "25%    2.800000e+02  2.000000e+00  3.727000e+03  4.050000e+02  1.000000e+00   \n",
              "50%    5.580000e+02  4.000000e+00  5.744000e+03  6.090000e+02  1.000000e+00   \n",
              "75%    8.380000e+02  6.000000e+00  7.856000e+03  8.370000e+02  1.000000e+00   \n",
              "max    1.115000e+03  7.000000e+00  4.155100e+04  7.388000e+03  1.000000e+00   \n",
              "\n",
              "              Promo  SchoolHoliday  \n",
              "count  1.017209e+06   1.017209e+06  \n",
              "mean   3.815145e-01   1.786467e-01  \n",
              "std    4.857586e-01   3.830564e-01  \n",
              "min    0.000000e+00   0.000000e+00  \n",
              "25%    0.000000e+00   0.000000e+00  \n",
              "50%    0.000000e+00   0.000000e+00  \n",
              "75%    1.000000e+00   0.000000e+00  \n",
              "max    1.000000e+00   1.000000e+00  "
            ],
            "text/html": [
              "\n",
              "  <div id=\"df-006a9ee9-9b59-4a01-a2a8-2206b4e3bb2a\">\n",
              "    <div class=\"colab-df-container\">\n",
              "      <div>\n",
              "<style scoped>\n",
              "    .dataframe tbody tr th:only-of-type {\n",
              "        vertical-align: middle;\n",
              "    }\n",
              "\n",
              "    .dataframe tbody tr th {\n",
              "        vertical-align: top;\n",
              "    }\n",
              "\n",
              "    .dataframe thead th {\n",
              "        text-align: right;\n",
              "    }\n",
              "</style>\n",
              "<table border=\"1\" class=\"dataframe\">\n",
              "  <thead>\n",
              "    <tr style=\"text-align: right;\">\n",
              "      <th></th>\n",
              "      <th>Store</th>\n",
              "      <th>DayOfWeek</th>\n",
              "      <th>Sales</th>\n",
              "      <th>Customers</th>\n",
              "      <th>Open</th>\n",
              "      <th>Promo</th>\n",
              "      <th>SchoolHoliday</th>\n",
              "    </tr>\n",
              "  </thead>\n",
              "  <tbody>\n",
              "    <tr>\n",
              "      <th>count</th>\n",
              "      <td>1.017209e+06</td>\n",
              "      <td>1.017209e+06</td>\n",
              "      <td>1.017209e+06</td>\n",
              "      <td>1.017209e+06</td>\n",
              "      <td>1.017209e+06</td>\n",
              "      <td>1.017209e+06</td>\n",
              "      <td>1.017209e+06</td>\n",
              "    </tr>\n",
              "    <tr>\n",
              "      <th>mean</th>\n",
              "      <td>5.584297e+02</td>\n",
              "      <td>3.998341e+00</td>\n",
              "      <td>5.773819e+03</td>\n",
              "      <td>6.331459e+02</td>\n",
              "      <td>8.301067e-01</td>\n",
              "      <td>3.815145e-01</td>\n",
              "      <td>1.786467e-01</td>\n",
              "    </tr>\n",
              "    <tr>\n",
              "      <th>std</th>\n",
              "      <td>3.219087e+02</td>\n",
              "      <td>1.997391e+00</td>\n",
              "      <td>3.849926e+03</td>\n",
              "      <td>4.644117e+02</td>\n",
              "      <td>3.755392e-01</td>\n",
              "      <td>4.857586e-01</td>\n",
              "      <td>3.830564e-01</td>\n",
              "    </tr>\n",
              "    <tr>\n",
              "      <th>min</th>\n",
              "      <td>1.000000e+00</td>\n",
              "      <td>1.000000e+00</td>\n",
              "      <td>0.000000e+00</td>\n",
              "      <td>0.000000e+00</td>\n",
              "      <td>0.000000e+00</td>\n",
              "      <td>0.000000e+00</td>\n",
              "      <td>0.000000e+00</td>\n",
              "    </tr>\n",
              "    <tr>\n",
              "      <th>25%</th>\n",
              "      <td>2.800000e+02</td>\n",
              "      <td>2.000000e+00</td>\n",
              "      <td>3.727000e+03</td>\n",
              "      <td>4.050000e+02</td>\n",
              "      <td>1.000000e+00</td>\n",
              "      <td>0.000000e+00</td>\n",
              "      <td>0.000000e+00</td>\n",
              "    </tr>\n",
              "    <tr>\n",
              "      <th>50%</th>\n",
              "      <td>5.580000e+02</td>\n",
              "      <td>4.000000e+00</td>\n",
              "      <td>5.744000e+03</td>\n",
              "      <td>6.090000e+02</td>\n",
              "      <td>1.000000e+00</td>\n",
              "      <td>0.000000e+00</td>\n",
              "      <td>0.000000e+00</td>\n",
              "    </tr>\n",
              "    <tr>\n",
              "      <th>75%</th>\n",
              "      <td>8.380000e+02</td>\n",
              "      <td>6.000000e+00</td>\n",
              "      <td>7.856000e+03</td>\n",
              "      <td>8.370000e+02</td>\n",
              "      <td>1.000000e+00</td>\n",
              "      <td>1.000000e+00</td>\n",
              "      <td>0.000000e+00</td>\n",
              "    </tr>\n",
              "    <tr>\n",
              "      <th>max</th>\n",
              "      <td>1.115000e+03</td>\n",
              "      <td>7.000000e+00</td>\n",
              "      <td>4.155100e+04</td>\n",
              "      <td>7.388000e+03</td>\n",
              "      <td>1.000000e+00</td>\n",
              "      <td>1.000000e+00</td>\n",
              "      <td>1.000000e+00</td>\n",
              "    </tr>\n",
              "  </tbody>\n",
              "</table>\n",
              "</div>\n",
              "      <button class=\"colab-df-convert\" onclick=\"convertToInteractive('df-006a9ee9-9b59-4a01-a2a8-2206b4e3bb2a')\"\n",
              "              title=\"Convert this dataframe to an interactive table.\"\n",
              "              style=\"display:none;\">\n",
              "        \n",
              "  <svg xmlns=\"http://www.w3.org/2000/svg\" height=\"24px\"viewBox=\"0 0 24 24\"\n",
              "       width=\"24px\">\n",
              "    <path d=\"M0 0h24v24H0V0z\" fill=\"none\"/>\n",
              "    <path d=\"M18.56 5.44l.94 2.06.94-2.06 2.06-.94-2.06-.94-.94-2.06-.94 2.06-2.06.94zm-11 1L8.5 8.5l.94-2.06 2.06-.94-2.06-.94L8.5 2.5l-.94 2.06-2.06.94zm10 10l.94 2.06.94-2.06 2.06-.94-2.06-.94-.94-2.06-.94 2.06-2.06.94z\"/><path d=\"M17.41 7.96l-1.37-1.37c-.4-.4-.92-.59-1.43-.59-.52 0-1.04.2-1.43.59L10.3 9.45l-7.72 7.72c-.78.78-.78 2.05 0 2.83L4 21.41c.39.39.9.59 1.41.59.51 0 1.02-.2 1.41-.59l7.78-7.78 2.81-2.81c.8-.78.8-2.07 0-2.86zM5.41 20L4 18.59l7.72-7.72 1.47 1.35L5.41 20z\"/>\n",
              "  </svg>\n",
              "      </button>\n",
              "      \n",
              "  <style>\n",
              "    .colab-df-container {\n",
              "      display:flex;\n",
              "      flex-wrap:wrap;\n",
              "      gap: 12px;\n",
              "    }\n",
              "\n",
              "    .colab-df-convert {\n",
              "      background-color: #E8F0FE;\n",
              "      border: none;\n",
              "      border-radius: 50%;\n",
              "      cursor: pointer;\n",
              "      display: none;\n",
              "      fill: #1967D2;\n",
              "      height: 32px;\n",
              "      padding: 0 0 0 0;\n",
              "      width: 32px;\n",
              "    }\n",
              "\n",
              "    .colab-df-convert:hover {\n",
              "      background-color: #E2EBFA;\n",
              "      box-shadow: 0px 1px 2px rgba(60, 64, 67, 0.3), 0px 1px 3px 1px rgba(60, 64, 67, 0.15);\n",
              "      fill: #174EA6;\n",
              "    }\n",
              "\n",
              "    [theme=dark] .colab-df-convert {\n",
              "      background-color: #3B4455;\n",
              "      fill: #D2E3FC;\n",
              "    }\n",
              "\n",
              "    [theme=dark] .colab-df-convert:hover {\n",
              "      background-color: #434B5C;\n",
              "      box-shadow: 0px 1px 3px 1px rgba(0, 0, 0, 0.15);\n",
              "      filter: drop-shadow(0px 1px 2px rgba(0, 0, 0, 0.3));\n",
              "      fill: #FFFFFF;\n",
              "    }\n",
              "  </style>\n",
              "\n",
              "      <script>\n",
              "        const buttonEl =\n",
              "          document.querySelector('#df-006a9ee9-9b59-4a01-a2a8-2206b4e3bb2a button.colab-df-convert');\n",
              "        buttonEl.style.display =\n",
              "          google.colab.kernel.accessAllowed ? 'block' : 'none';\n",
              "\n",
              "        async function convertToInteractive(key) {\n",
              "          const element = document.querySelector('#df-006a9ee9-9b59-4a01-a2a8-2206b4e3bb2a');\n",
              "          const dataTable =\n",
              "            await google.colab.kernel.invokeFunction('convertToInteractive',\n",
              "                                                     [key], {});\n",
              "          if (!dataTable) return;\n",
              "\n",
              "          const docLinkHtml = 'Like what you see? Visit the ' +\n",
              "            '<a target=\"_blank\" href=https://colab.research.google.com/notebooks/data_table.ipynb>data table notebook</a>'\n",
              "            + ' to learn more about interactive tables.';\n",
              "          element.innerHTML = '';\n",
              "          dataTable['output_type'] = 'display_data';\n",
              "          await google.colab.output.renderOutput(dataTable, element);\n",
              "          const docLink = document.createElement('div');\n",
              "          docLink.innerHTML = docLinkHtml;\n",
              "          element.appendChild(docLink);\n",
              "        }\n",
              "      </script>\n",
              "    </div>\n",
              "  </div>\n",
              "  "
            ]
          },
          "metadata": {},
          "execution_count": 64
        }
      ]
    },
    {
      "cell_type": "code",
      "source": [
        "store_data.describe()"
      ],
      "metadata": {
        "colab": {
          "base_uri": "https://localhost:8080/",
          "height": 300
        },
        "id": "LWQtt8U4i4OE",
        "outputId": "fe1a0420-2682-4d63-9285-89589b1fbf7d"
      },
      "execution_count": 65,
      "outputs": [
        {
          "output_type": "execute_result",
          "data": {
            "text/plain": [
              "            Store  CompetitionDistance  CompetitionOpenSinceMonth  \\\n",
              "count  1115.00000          1112.000000                 761.000000   \n",
              "mean    558.00000          5404.901079                   7.224704   \n",
              "std     322.01708          7663.174720                   3.212348   \n",
              "min       1.00000            20.000000                   1.000000   \n",
              "25%     279.50000           717.500000                   4.000000   \n",
              "50%     558.00000          2325.000000                   8.000000   \n",
              "75%     836.50000          6882.500000                  10.000000   \n",
              "max    1115.00000         75860.000000                  12.000000   \n",
              "\n",
              "       CompetitionOpenSinceYear       Promo2  Promo2SinceWeek  Promo2SinceYear  \n",
              "count                761.000000  1115.000000       571.000000       571.000000  \n",
              "mean                2008.668857     0.512108        23.595447      2011.763573  \n",
              "std                    6.195983     0.500078        14.141984         1.674935  \n",
              "min                 1900.000000     0.000000         1.000000      2009.000000  \n",
              "25%                 2006.000000     0.000000        13.000000      2011.000000  \n",
              "50%                 2010.000000     1.000000        22.000000      2012.000000  \n",
              "75%                 2013.000000     1.000000        37.000000      2013.000000  \n",
              "max                 2015.000000     1.000000        50.000000      2015.000000  "
            ],
            "text/html": [
              "\n",
              "  <div id=\"df-1e347bb9-23da-461b-b167-335f25d7453d\">\n",
              "    <div class=\"colab-df-container\">\n",
              "      <div>\n",
              "<style scoped>\n",
              "    .dataframe tbody tr th:only-of-type {\n",
              "        vertical-align: middle;\n",
              "    }\n",
              "\n",
              "    .dataframe tbody tr th {\n",
              "        vertical-align: top;\n",
              "    }\n",
              "\n",
              "    .dataframe thead th {\n",
              "        text-align: right;\n",
              "    }\n",
              "</style>\n",
              "<table border=\"1\" class=\"dataframe\">\n",
              "  <thead>\n",
              "    <tr style=\"text-align: right;\">\n",
              "      <th></th>\n",
              "      <th>Store</th>\n",
              "      <th>CompetitionDistance</th>\n",
              "      <th>CompetitionOpenSinceMonth</th>\n",
              "      <th>CompetitionOpenSinceYear</th>\n",
              "      <th>Promo2</th>\n",
              "      <th>Promo2SinceWeek</th>\n",
              "      <th>Promo2SinceYear</th>\n",
              "    </tr>\n",
              "  </thead>\n",
              "  <tbody>\n",
              "    <tr>\n",
              "      <th>count</th>\n",
              "      <td>1115.00000</td>\n",
              "      <td>1112.000000</td>\n",
              "      <td>761.000000</td>\n",
              "      <td>761.000000</td>\n",
              "      <td>1115.000000</td>\n",
              "      <td>571.000000</td>\n",
              "      <td>571.000000</td>\n",
              "    </tr>\n",
              "    <tr>\n",
              "      <th>mean</th>\n",
              "      <td>558.00000</td>\n",
              "      <td>5404.901079</td>\n",
              "      <td>7.224704</td>\n",
              "      <td>2008.668857</td>\n",
              "      <td>0.512108</td>\n",
              "      <td>23.595447</td>\n",
              "      <td>2011.763573</td>\n",
              "    </tr>\n",
              "    <tr>\n",
              "      <th>std</th>\n",
              "      <td>322.01708</td>\n",
              "      <td>7663.174720</td>\n",
              "      <td>3.212348</td>\n",
              "      <td>6.195983</td>\n",
              "      <td>0.500078</td>\n",
              "      <td>14.141984</td>\n",
              "      <td>1.674935</td>\n",
              "    </tr>\n",
              "    <tr>\n",
              "      <th>min</th>\n",
              "      <td>1.00000</td>\n",
              "      <td>20.000000</td>\n",
              "      <td>1.000000</td>\n",
              "      <td>1900.000000</td>\n",
              "      <td>0.000000</td>\n",
              "      <td>1.000000</td>\n",
              "      <td>2009.000000</td>\n",
              "    </tr>\n",
              "    <tr>\n",
              "      <th>25%</th>\n",
              "      <td>279.50000</td>\n",
              "      <td>717.500000</td>\n",
              "      <td>4.000000</td>\n",
              "      <td>2006.000000</td>\n",
              "      <td>0.000000</td>\n",
              "      <td>13.000000</td>\n",
              "      <td>2011.000000</td>\n",
              "    </tr>\n",
              "    <tr>\n",
              "      <th>50%</th>\n",
              "      <td>558.00000</td>\n",
              "      <td>2325.000000</td>\n",
              "      <td>8.000000</td>\n",
              "      <td>2010.000000</td>\n",
              "      <td>1.000000</td>\n",
              "      <td>22.000000</td>\n",
              "      <td>2012.000000</td>\n",
              "    </tr>\n",
              "    <tr>\n",
              "      <th>75%</th>\n",
              "      <td>836.50000</td>\n",
              "      <td>6882.500000</td>\n",
              "      <td>10.000000</td>\n",
              "      <td>2013.000000</td>\n",
              "      <td>1.000000</td>\n",
              "      <td>37.000000</td>\n",
              "      <td>2013.000000</td>\n",
              "    </tr>\n",
              "    <tr>\n",
              "      <th>max</th>\n",
              "      <td>1115.00000</td>\n",
              "      <td>75860.000000</td>\n",
              "      <td>12.000000</td>\n",
              "      <td>2015.000000</td>\n",
              "      <td>1.000000</td>\n",
              "      <td>50.000000</td>\n",
              "      <td>2015.000000</td>\n",
              "    </tr>\n",
              "  </tbody>\n",
              "</table>\n",
              "</div>\n",
              "      <button class=\"colab-df-convert\" onclick=\"convertToInteractive('df-1e347bb9-23da-461b-b167-335f25d7453d')\"\n",
              "              title=\"Convert this dataframe to an interactive table.\"\n",
              "              style=\"display:none;\">\n",
              "        \n",
              "  <svg xmlns=\"http://www.w3.org/2000/svg\" height=\"24px\"viewBox=\"0 0 24 24\"\n",
              "       width=\"24px\">\n",
              "    <path d=\"M0 0h24v24H0V0z\" fill=\"none\"/>\n",
              "    <path d=\"M18.56 5.44l.94 2.06.94-2.06 2.06-.94-2.06-.94-.94-2.06-.94 2.06-2.06.94zm-11 1L8.5 8.5l.94-2.06 2.06-.94-2.06-.94L8.5 2.5l-.94 2.06-2.06.94zm10 10l.94 2.06.94-2.06 2.06-.94-2.06-.94-.94-2.06-.94 2.06-2.06.94z\"/><path d=\"M17.41 7.96l-1.37-1.37c-.4-.4-.92-.59-1.43-.59-.52 0-1.04.2-1.43.59L10.3 9.45l-7.72 7.72c-.78.78-.78 2.05 0 2.83L4 21.41c.39.39.9.59 1.41.59.51 0 1.02-.2 1.41-.59l7.78-7.78 2.81-2.81c.8-.78.8-2.07 0-2.86zM5.41 20L4 18.59l7.72-7.72 1.47 1.35L5.41 20z\"/>\n",
              "  </svg>\n",
              "      </button>\n",
              "      \n",
              "  <style>\n",
              "    .colab-df-container {\n",
              "      display:flex;\n",
              "      flex-wrap:wrap;\n",
              "      gap: 12px;\n",
              "    }\n",
              "\n",
              "    .colab-df-convert {\n",
              "      background-color: #E8F0FE;\n",
              "      border: none;\n",
              "      border-radius: 50%;\n",
              "      cursor: pointer;\n",
              "      display: none;\n",
              "      fill: #1967D2;\n",
              "      height: 32px;\n",
              "      padding: 0 0 0 0;\n",
              "      width: 32px;\n",
              "    }\n",
              "\n",
              "    .colab-df-convert:hover {\n",
              "      background-color: #E2EBFA;\n",
              "      box-shadow: 0px 1px 2px rgba(60, 64, 67, 0.3), 0px 1px 3px 1px rgba(60, 64, 67, 0.15);\n",
              "      fill: #174EA6;\n",
              "    }\n",
              "\n",
              "    [theme=dark] .colab-df-convert {\n",
              "      background-color: #3B4455;\n",
              "      fill: #D2E3FC;\n",
              "    }\n",
              "\n",
              "    [theme=dark] .colab-df-convert:hover {\n",
              "      background-color: #434B5C;\n",
              "      box-shadow: 0px 1px 3px 1px rgba(0, 0, 0, 0.15);\n",
              "      filter: drop-shadow(0px 1px 2px rgba(0, 0, 0, 0.3));\n",
              "      fill: #FFFFFF;\n",
              "    }\n",
              "  </style>\n",
              "\n",
              "      <script>\n",
              "        const buttonEl =\n",
              "          document.querySelector('#df-1e347bb9-23da-461b-b167-335f25d7453d button.colab-df-convert');\n",
              "        buttonEl.style.display =\n",
              "          google.colab.kernel.accessAllowed ? 'block' : 'none';\n",
              "\n",
              "        async function convertToInteractive(key) {\n",
              "          const element = document.querySelector('#df-1e347bb9-23da-461b-b167-335f25d7453d');\n",
              "          const dataTable =\n",
              "            await google.colab.kernel.invokeFunction('convertToInteractive',\n",
              "                                                     [key], {});\n",
              "          if (!dataTable) return;\n",
              "\n",
              "          const docLinkHtml = 'Like what you see? Visit the ' +\n",
              "            '<a target=\"_blank\" href=https://colab.research.google.com/notebooks/data_table.ipynb>data table notebook</a>'\n",
              "            + ' to learn more about interactive tables.';\n",
              "          element.innerHTML = '';\n",
              "          dataTable['output_type'] = 'display_data';\n",
              "          await google.colab.output.renderOutput(dataTable, element);\n",
              "          const docLink = document.createElement('div');\n",
              "          docLink.innerHTML = docLinkHtml;\n",
              "          element.appendChild(docLink);\n",
              "        }\n",
              "      </script>\n",
              "    </div>\n",
              "  </div>\n",
              "  "
            ]
          },
          "metadata": {},
          "execution_count": 65
        }
      ]
    },
    {
      "cell_type": "markdown",
      "source": [
        "### Variables Description "
      ],
      "metadata": {
        "id": "PBTbrJXOngz2"
      }
    },
    {
      "cell_type": "markdown",
      "source": [
        "Answer Here"
      ],
      "metadata": {
        "id": "aJV4KIxSnxay"
      }
    },
    {
      "cell_type": "markdown",
      "source": [
        "### Check Unique Values for each variable."
      ],
      "metadata": {
        "id": "u3PMJOP6ngxN"
      }
    },
    {
      "cell_type": "code",
      "source": [
        "# Checking Unique Values for each variable of Rossmann Store Dataset\n",
        "for i in rossmann_store_data.columns:\n",
        "  j=rossmann_store_data[i].value_counts().reset_index()\n",
        "  print(\"Column name is:\",i,\"and it value is:\\n\",j)\n",
        "  print(\"\\n\")"
      ],
      "metadata": {
        "id": "zms12Yq5n-jE",
        "colab": {
          "base_uri": "https://localhost:8080/"
        },
        "outputId": "b6c84f37-f847-4ef7-9e2c-3b2a9df1aa0d"
      },
      "execution_count": 66,
      "outputs": [
        {
          "output_type": "stream",
          "name": "stdout",
          "text": [
            "Column name is: Store and it value is:\n",
            "       index  Store\n",
            "0         1    942\n",
            "1       726    942\n",
            "2       708    942\n",
            "3       709    942\n",
            "4       713    942\n",
            "...     ...    ...\n",
            "1110    159    758\n",
            "1111    637    758\n",
            "1112    636    758\n",
            "1113    633    758\n",
            "1114    155    758\n",
            "\n",
            "[1115 rows x 2 columns]\n",
            "\n",
            "\n",
            "Column name is: DayOfWeek and it value is:\n",
            "    index  DayOfWeek\n",
            "0      5     145845\n",
            "1      4     145845\n",
            "2      3     145665\n",
            "3      2     145664\n",
            "4      1     144730\n",
            "5      7     144730\n",
            "6      6     144730\n",
            "\n",
            "\n",
            "Column name is: Date and it value is:\n",
            "          index  Date\n",
            "0   2015-07-31  1115\n",
            "1   2013-11-06  1115\n",
            "2   2013-11-18  1115\n",
            "3   2013-11-17  1115\n",
            "4   2013-11-16  1115\n",
            "..         ...   ...\n",
            "937 2014-10-28   935\n",
            "938 2014-10-27   935\n",
            "939 2014-10-26   935\n",
            "940 2014-10-25   935\n",
            "941 2014-12-08   935\n",
            "\n",
            "[942 rows x 2 columns]\n",
            "\n",
            "\n",
            "Column name is: Sales and it value is:\n",
            "        index   Sales\n",
            "0          0  172871\n",
            "1       5674     215\n",
            "2       5558     197\n",
            "3       5483     196\n",
            "4       6214     195\n",
            "...      ...     ...\n",
            "21729  23806       1\n",
            "21730  24183       1\n",
            "21731  20651       1\n",
            "21732  25083       1\n",
            "21733  23303       1\n",
            "\n",
            "[21734 rows x 2 columns]\n",
            "\n",
            "\n",
            "Column name is: Customers and it value is:\n",
            "       index  Customers\n",
            "0         0     172869\n",
            "1       560       2414\n",
            "2       576       2363\n",
            "3       603       2337\n",
            "4       571       2330\n",
            "...     ...        ...\n",
            "4081   4815          1\n",
            "4082   3998          1\n",
            "4083   4210          1\n",
            "4084   4920          1\n",
            "4085   4065          1\n",
            "\n",
            "[4086 rows x 2 columns]\n",
            "\n",
            "\n",
            "Column name is: Open and it value is:\n",
            "    index    Open\n",
            "0      1  844392\n",
            "1      0  172817\n",
            "\n",
            "\n",
            "Column name is: Promo and it value is:\n",
            "    index   Promo\n",
            "0      0  629129\n",
            "1      1  388080\n",
            "\n",
            "\n",
            "Column name is: StateHoliday and it value is:\n",
            "   index  StateHoliday\n",
            "0     0        855087\n",
            "1     0        131072\n",
            "2     a         20260\n",
            "3     b          6690\n",
            "4     c          4100\n",
            "\n",
            "\n",
            "Column name is: SchoolHoliday and it value is:\n",
            "    index  SchoolHoliday\n",
            "0      0         835488\n",
            "1      1         181721\n",
            "\n",
            "\n"
          ]
        }
      ]
    },
    {
      "cell_type": "code",
      "source": [
        "# Checking Unique Values for each variable of Store Dataset\n",
        "for i in store_data.columns:\n",
        "  j=store_data[i].value_counts().reset_index()\n",
        "  print(\"Column name is:\",i,\"and it value is:\\n\",j)\n",
        "  print(\"\\n\")"
      ],
      "metadata": {
        "colab": {
          "base_uri": "https://localhost:8080/"
        },
        "id": "QBsxA1fed8TB",
        "outputId": "8ded1d41-e98f-4f98-c923-6fdf0d2fe730"
      },
      "execution_count": 67,
      "outputs": [
        {
          "output_type": "stream",
          "name": "stdout",
          "text": [
            "Column name is: Store and it value is:\n",
            "       index  Store\n",
            "0         1      1\n",
            "1       742      1\n",
            "2       748      1\n",
            "3       747      1\n",
            "4       746      1\n",
            "...     ...    ...\n",
            "1110    378      1\n",
            "1111    379      1\n",
            "1112    380      1\n",
            "1113    381      1\n",
            "1114   1115      1\n",
            "\n",
            "[1115 rows x 2 columns]\n",
            "\n",
            "\n",
            "Column name is: StoreType and it value is:\n",
            "   index  StoreType\n",
            "0     a        602\n",
            "1     d        348\n",
            "2     c        148\n",
            "3     b         17\n",
            "\n",
            "\n",
            "Column name is: Assortment and it value is:\n",
            "   index  Assortment\n",
            "0     a         593\n",
            "1     c         513\n",
            "2     b           9\n",
            "\n",
            "\n",
            "Column name is: CompetitionDistance and it value is:\n",
            "       index  CompetitionDistance\n",
            "0     250.0                   12\n",
            "1    1200.0                    9\n",
            "2     190.0                    8\n",
            "3     350.0                    8\n",
            "4      50.0                    8\n",
            "..      ...                  ...\n",
            "649  4490.0                    1\n",
            "650  8970.0                    1\n",
            "651  9720.0                    1\n",
            "652  5290.0                    1\n",
            "653  1880.0                    1\n",
            "\n",
            "[654 rows x 2 columns]\n",
            "\n",
            "\n",
            "Column name is: CompetitionOpenSinceMonth and it value is:\n",
            "     index  CompetitionOpenSinceMonth\n",
            "0     9.0                        125\n",
            "1     4.0                         94\n",
            "2    11.0                         92\n",
            "3     3.0                         70\n",
            "4     7.0                         67\n",
            "5    12.0                         64\n",
            "6    10.0                         61\n",
            "7     6.0                         50\n",
            "8     5.0                         44\n",
            "9     2.0                         41\n",
            "10    8.0                         39\n",
            "11    1.0                         14\n",
            "\n",
            "\n",
            "Column name is: CompetitionOpenSinceYear and it value is:\n",
            "      index  CompetitionOpenSinceYear\n",
            "0   2013.0                        83\n",
            "1   2012.0                        82\n",
            "2   2014.0                        70\n",
            "3   2005.0                        62\n",
            "4   2010.0                        55\n",
            "5   2008.0                        54\n",
            "6   2009.0                        54\n",
            "7   2011.0                        54\n",
            "8   2007.0                        48\n",
            "9   2006.0                        47\n",
            "10  2015.0                        38\n",
            "11  2002.0                        27\n",
            "12  2004.0                        22\n",
            "13  2003.0                        19\n",
            "14  2001.0                        16\n",
            "15  2000.0                        10\n",
            "16  1999.0                         8\n",
            "17  1990.0                         5\n",
            "18  1995.0                         2\n",
            "19  1994.0                         2\n",
            "20  1961.0                         1\n",
            "21  1900.0                         1\n",
            "22  1998.0                         1\n",
            "\n",
            "\n",
            "Column name is: Promo2 and it value is:\n",
            "    index  Promo2\n",
            "0      1     571\n",
            "1      0     544\n",
            "\n",
            "\n",
            "Column name is: Promo2SinceWeek and it value is:\n",
            "     index  Promo2SinceWeek\n",
            "0    14.0               81\n",
            "1    40.0               77\n",
            "2    31.0               44\n",
            "3    10.0               42\n",
            "4     5.0               39\n",
            "5     1.0               35\n",
            "6    37.0               35\n",
            "7    13.0               34\n",
            "8    45.0               34\n",
            "9    22.0               33\n",
            "10   18.0               29\n",
            "11   35.0               25\n",
            "12    9.0               14\n",
            "13   27.0               11\n",
            "14   36.0               10\n",
            "15   48.0                9\n",
            "16   39.0                6\n",
            "17   23.0                5\n",
            "18   44.0                3\n",
            "19    6.0                1\n",
            "20   26.0                1\n",
            "21   50.0                1\n",
            "22   49.0                1\n",
            "23   28.0                1\n",
            "\n",
            "\n",
            "Column name is: Promo2SinceYear and it value is:\n",
            "     index  Promo2SinceYear\n",
            "0  2011.0              128\n",
            "1  2013.0              120\n",
            "2  2014.0               95\n",
            "3  2012.0               81\n",
            "4  2009.0               73\n",
            "5  2010.0               64\n",
            "6  2015.0               10\n",
            "\n",
            "\n",
            "Column name is: PromoInterval and it value is:\n",
            "               index  PromoInterval\n",
            "0   Jan,Apr,Jul,Oct            335\n",
            "1   Feb,May,Aug,Nov            130\n",
            "2  Mar,Jun,Sept,Dec            106\n",
            "\n",
            "\n"
          ]
        }
      ]
    },
    {
      "cell_type": "markdown",
      "source": [
        "We have check the unique values of variables of both the datasets given to us."
      ],
      "metadata": {
        "id": "ZLOA0-5Ze7kk"
      }
    },
    {
      "cell_type": "markdown",
      "source": [
        "## 3. ***Data Wrangling***"
      ],
      "metadata": {
        "id": "dauF4eBmngu3"
      }
    },
    {
      "cell_type": "markdown",
      "source": [
        "While viewing both the datasets, we found that there are no null values in Rossmann Store dateset . But there are null values in Store Dataset."
      ],
      "metadata": {
        "id": "VnPGklwEfdUE"
      }
    },
    {
      "cell_type": "markdown",
      "source": [
        "![Screenshot_20230108_000417.png](data:image/png;base64,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)"
      ],
      "metadata": {
        "id": "RNQiUCkig0SE"
      }
    },
    {
      "cell_type": "markdown",
      "source": [
        "In Store Dataset , the column ' CompetitionDistance ' has 3 null values and the columns ' CompetitionOpenSinceMonth ' and ' CompetitionOpenSinceYear ' have same null value count i.e. 354 . Also , the columns ' Promo2SinceWeek ' , ' Promo2SinceYear ' and ' PromoInterval ' have the same null value count i.e. 544 . That's curious !"
      ],
      "metadata": {
        "id": "zrUHWBQLhdjQ"
      }
    },
    {
      "cell_type": "markdown",
      "source": [
        "In columns ' CompetitionDistance ' , ' CompetitionOpenSinceMonth ' and ' CompetitionOpenSinceYear ' , we can replace null values by median and mode . But by just viewing at the dataset we found that the values of the columns ' Promo2SinceWeek ' , ' Promo2SinceYear ' and ' PromoInterval ' are zero where values of Promo2 are zero."
      ],
      "metadata": {
        "id": "EYewlxgoir8j"
      }
    },
    {
      "cell_type": "code",
      "source": [
        "store_data['CompetitionDistance'].fillna(store_data['CompetitionDistance'].median(),inplace=True)\n",
        "store_data['CompetitionOpenSinceMonth'].fillna(store_data['CompetitionOpenSinceMonth'].mode().iloc[0],inplace=True)\n",
        "store_data['CompetitionOpenSinceYear'].fillna(store_data['CompetitionOpenSinceYear'].mode().iloc[0],inplace=True)"
      ],
      "metadata": {
        "id": "uwTYb9XI2Yh-"
      },
      "execution_count": 68,
      "outputs": []
    },
    {
      "cell_type": "code",
      "source": [
        "store_data['Promo2SinceWeek'].fillna(0,inplace=True)\n",
        "store_data['Promo2SinceYear'].fillna(0,inplace=True)\n",
        "store_data['PromoInterval'].fillna(0,inplace=True)"
      ],
      "metadata": {
        "id": "xADX6Z9ZUBMW"
      },
      "execution_count": 69,
      "outputs": []
    },
    {
      "cell_type": "code",
      "source": [
        "# Let's now check the null value count...\n",
        "store_data.isna().sum()"
      ],
      "metadata": {
        "colab": {
          "base_uri": "https://localhost:8080/"
        },
        "id": "fVKSp6y8ude8",
        "outputId": "fe65051a-9c5a-4ad6-8d52-30930a126a62"
      },
      "execution_count": 70,
      "outputs": [
        {
          "output_type": "execute_result",
          "data": {
            "text/plain": [
              "Store                        0\n",
              "StoreType                    0\n",
              "Assortment                   0\n",
              "CompetitionDistance          0\n",
              "CompetitionOpenSinceMonth    0\n",
              "CompetitionOpenSinceYear     0\n",
              "Promo2                       0\n",
              "Promo2SinceWeek              0\n",
              "Promo2SinceYear              0\n",
              "PromoInterval                0\n",
              "dtype: int64"
            ]
          },
          "metadata": {},
          "execution_count": 70
        }
      ]
    },
    {
      "cell_type": "markdown",
      "source": [
        "Now we have treated all the null values of Store dataset . "
      ],
      "metadata": {
        "id": "QifdkX4gVRKc"
      }
    },
    {
      "cell_type": "markdown",
      "source": [
        "Let's merge the two given datasets ."
      ],
      "metadata": {
        "id": "ACBbenritph5"
      }
    },
    {
      "cell_type": "code",
      "source": [
        "# Merging the two dataset 'Rossmann store dataset' and 'Store dataset'\n",
        "df=rossmann_store_data.merge(store_data,how='inner',on='Store')"
      ],
      "metadata": {
        "id": "N0BBQ2IFQCww"
      },
      "execution_count": 71,
      "outputs": []
    },
    {
      "cell_type": "code",
      "source": [
        "# Let's first few rows of our new dataframe\n",
        "df.head()"
      ],
      "metadata": {
        "colab": {
          "base_uri": "https://localhost:8080/",
          "height": 357
        },
        "id": "NIV5v6-Ouhmd",
        "outputId": "cb6324b3-5834-4c7b-eac8-cc90e164b40c"
      },
      "execution_count": 72,
      "outputs": [
        {
          "output_type": "execute_result",
          "data": {
            "text/plain": [
              "   Store  DayOfWeek       Date  Sales  Customers  Open  Promo StateHoliday  \\\n",
              "0      1          5 2015-07-31   5263        555     1      1            0   \n",
              "1      1          4 2015-07-30   5020        546     1      1            0   \n",
              "2      1          3 2015-07-29   4782        523     1      1            0   \n",
              "3      1          2 2015-07-28   5011        560     1      1            0   \n",
              "4      1          1 2015-07-27   6102        612     1      1            0   \n",
              "\n",
              "   SchoolHoliday StoreType Assortment  CompetitionDistance  \\\n",
              "0              1         c          a               1270.0   \n",
              "1              1         c          a               1270.0   \n",
              "2              1         c          a               1270.0   \n",
              "3              1         c          a               1270.0   \n",
              "4              1         c          a               1270.0   \n",
              "\n",
              "   CompetitionOpenSinceMonth  CompetitionOpenSinceYear  Promo2  \\\n",
              "0                        9.0                    2008.0       0   \n",
              "1                        9.0                    2008.0       0   \n",
              "2                        9.0                    2008.0       0   \n",
              "3                        9.0                    2008.0       0   \n",
              "4                        9.0                    2008.0       0   \n",
              "\n",
              "   Promo2SinceWeek  Promo2SinceYear PromoInterval  \n",
              "0              0.0              0.0             0  \n",
              "1              0.0              0.0             0  \n",
              "2              0.0              0.0             0  \n",
              "3              0.0              0.0             0  \n",
              "4              0.0              0.0             0  "
            ],
            "text/html": [
              "\n",
              "  <div id=\"df-a2e0caf0-76df-49e5-bf51-4c05449e5001\">\n",
              "    <div class=\"colab-df-container\">\n",
              "      <div>\n",
              "<style scoped>\n",
              "    .dataframe tbody tr th:only-of-type {\n",
              "        vertical-align: middle;\n",
              "    }\n",
              "\n",
              "    .dataframe tbody tr th {\n",
              "        vertical-align: top;\n",
              "    }\n",
              "\n",
              "    .dataframe thead th {\n",
              "        text-align: right;\n",
              "    }\n",
              "</style>\n",
              "<table border=\"1\" class=\"dataframe\">\n",
              "  <thead>\n",
              "    <tr style=\"text-align: right;\">\n",
              "      <th></th>\n",
              "      <th>Store</th>\n",
              "      <th>DayOfWeek</th>\n",
              "      <th>Date</th>\n",
              "      <th>Sales</th>\n",
              "      <th>Customers</th>\n",
              "      <th>Open</th>\n",
              "      <th>Promo</th>\n",
              "      <th>StateHoliday</th>\n",
              "      <th>SchoolHoliday</th>\n",
              "      <th>StoreType</th>\n",
              "      <th>Assortment</th>\n",
              "      <th>CompetitionDistance</th>\n",
              "      <th>CompetitionOpenSinceMonth</th>\n",
              "      <th>CompetitionOpenSinceYear</th>\n",
              "      <th>Promo2</th>\n",
              "      <th>Promo2SinceWeek</th>\n",
              "      <th>Promo2SinceYear</th>\n",
              "      <th>PromoInterval</th>\n",
              "    </tr>\n",
              "  </thead>\n",
              "  <tbody>\n",
              "    <tr>\n",
              "      <th>0</th>\n",
              "      <td>1</td>\n",
              "      <td>5</td>\n",
              "      <td>2015-07-31</td>\n",
              "      <td>5263</td>\n",
              "      <td>555</td>\n",
              "      <td>1</td>\n",
              "      <td>1</td>\n",
              "      <td>0</td>\n",
              "      <td>1</td>\n",
              "      <td>c</td>\n",
              "      <td>a</td>\n",
              "      <td>1270.0</td>\n",
              "      <td>9.0</td>\n",
              "      <td>2008.0</td>\n",
              "      <td>0</td>\n",
              "      <td>0.0</td>\n",
              "      <td>0.0</td>\n",
              "      <td>0</td>\n",
              "    </tr>\n",
              "    <tr>\n",
              "      <th>1</th>\n",
              "      <td>1</td>\n",
              "      <td>4</td>\n",
              "      <td>2015-07-30</td>\n",
              "      <td>5020</td>\n",
              "      <td>546</td>\n",
              "      <td>1</td>\n",
              "      <td>1</td>\n",
              "      <td>0</td>\n",
              "      <td>1</td>\n",
              "      <td>c</td>\n",
              "      <td>a</td>\n",
              "      <td>1270.0</td>\n",
              "      <td>9.0</td>\n",
              "      <td>2008.0</td>\n",
              "      <td>0</td>\n",
              "      <td>0.0</td>\n",
              "      <td>0.0</td>\n",
              "      <td>0</td>\n",
              "    </tr>\n",
              "    <tr>\n",
              "      <th>2</th>\n",
              "      <td>1</td>\n",
              "      <td>3</td>\n",
              "      <td>2015-07-29</td>\n",
              "      <td>4782</td>\n",
              "      <td>523</td>\n",
              "      <td>1</td>\n",
              "      <td>1</td>\n",
              "      <td>0</td>\n",
              "      <td>1</td>\n",
              "      <td>c</td>\n",
              "      <td>a</td>\n",
              "      <td>1270.0</td>\n",
              "      <td>9.0</td>\n",
              "      <td>2008.0</td>\n",
              "      <td>0</td>\n",
              "      <td>0.0</td>\n",
              "      <td>0.0</td>\n",
              "      <td>0</td>\n",
              "    </tr>\n",
              "    <tr>\n",
              "      <th>3</th>\n",
              "      <td>1</td>\n",
              "      <td>2</td>\n",
              "      <td>2015-07-28</td>\n",
              "      <td>5011</td>\n",
              "      <td>560</td>\n",
              "      <td>1</td>\n",
              "      <td>1</td>\n",
              "      <td>0</td>\n",
              "      <td>1</td>\n",
              "      <td>c</td>\n",
              "      <td>a</td>\n",
              "      <td>1270.0</td>\n",
              "      <td>9.0</td>\n",
              "      <td>2008.0</td>\n",
              "      <td>0</td>\n",
              "      <td>0.0</td>\n",
              "      <td>0.0</td>\n",
              "      <td>0</td>\n",
              "    </tr>\n",
              "    <tr>\n",
              "      <th>4</th>\n",
              "      <td>1</td>\n",
              "      <td>1</td>\n",
              "      <td>2015-07-27</td>\n",
              "      <td>6102</td>\n",
              "      <td>612</td>\n",
              "      <td>1</td>\n",
              "      <td>1</td>\n",
              "      <td>0</td>\n",
              "      <td>1</td>\n",
              "      <td>c</td>\n",
              "      <td>a</td>\n",
              "      <td>1270.0</td>\n",
              "      <td>9.0</td>\n",
              "      <td>2008.0</td>\n",
              "      <td>0</td>\n",
              "      <td>0.0</td>\n",
              "      <td>0.0</td>\n",
              "      <td>0</td>\n",
              "    </tr>\n",
              "  </tbody>\n",
              "</table>\n",
              "</div>\n",
              "      <button class=\"colab-df-convert\" onclick=\"convertToInteractive('df-a2e0caf0-76df-49e5-bf51-4c05449e5001')\"\n",
              "              title=\"Convert this dataframe to an interactive table.\"\n",
              "              style=\"display:none;\">\n",
              "        \n",
              "  <svg xmlns=\"http://www.w3.org/2000/svg\" height=\"24px\"viewBox=\"0 0 24 24\"\n",
              "       width=\"24px\">\n",
              "    <path d=\"M0 0h24v24H0V0z\" fill=\"none\"/>\n",
              "    <path d=\"M18.56 5.44l.94 2.06.94-2.06 2.06-.94-2.06-.94-.94-2.06-.94 2.06-2.06.94zm-11 1L8.5 8.5l.94-2.06 2.06-.94-2.06-.94L8.5 2.5l-.94 2.06-2.06.94zm10 10l.94 2.06.94-2.06 2.06-.94-2.06-.94-.94-2.06-.94 2.06-2.06.94z\"/><path d=\"M17.41 7.96l-1.37-1.37c-.4-.4-.92-.59-1.43-.59-.52 0-1.04.2-1.43.59L10.3 9.45l-7.72 7.72c-.78.78-.78 2.05 0 2.83L4 21.41c.39.39.9.59 1.41.59.51 0 1.02-.2 1.41-.59l7.78-7.78 2.81-2.81c.8-.78.8-2.07 0-2.86zM5.41 20L4 18.59l7.72-7.72 1.47 1.35L5.41 20z\"/>\n",
              "  </svg>\n",
              "      </button>\n",
              "      \n",
              "  <style>\n",
              "    .colab-df-container {\n",
              "      display:flex;\n",
              "      flex-wrap:wrap;\n",
              "      gap: 12px;\n",
              "    }\n",
              "\n",
              "    .colab-df-convert {\n",
              "      background-color: #E8F0FE;\n",
              "      border: none;\n",
              "      border-radius: 50%;\n",
              "      cursor: pointer;\n",
              "      display: none;\n",
              "      fill: #1967D2;\n",
              "      height: 32px;\n",
              "      padding: 0 0 0 0;\n",
              "      width: 32px;\n",
              "    }\n",
              "\n",
              "    .colab-df-convert:hover {\n",
              "      background-color: #E2EBFA;\n",
              "      box-shadow: 0px 1px 2px rgba(60, 64, 67, 0.3), 0px 1px 3px 1px rgba(60, 64, 67, 0.15);\n",
              "      fill: #174EA6;\n",
              "    }\n",
              "\n",
              "    [theme=dark] .colab-df-convert {\n",
              "      background-color: #3B4455;\n",
              "      fill: #D2E3FC;\n",
              "    }\n",
              "\n",
              "    [theme=dark] .colab-df-convert:hover {\n",
              "      background-color: #434B5C;\n",
              "      box-shadow: 0px 1px 3px 1px rgba(0, 0, 0, 0.15);\n",
              "      filter: drop-shadow(0px 1px 2px rgba(0, 0, 0, 0.3));\n",
              "      fill: #FFFFFF;\n",
              "    }\n",
              "  </style>\n",
              "\n",
              "      <script>\n",
              "        const buttonEl =\n",
              "          document.querySelector('#df-a2e0caf0-76df-49e5-bf51-4c05449e5001 button.colab-df-convert');\n",
              "        buttonEl.style.display =\n",
              "          google.colab.kernel.accessAllowed ? 'block' : 'none';\n",
              "\n",
              "        async function convertToInteractive(key) {\n",
              "          const element = document.querySelector('#df-a2e0caf0-76df-49e5-bf51-4c05449e5001');\n",
              "          const dataTable =\n",
              "            await google.colab.kernel.invokeFunction('convertToInteractive',\n",
              "                                                     [key], {});\n",
              "          if (!dataTable) return;\n",
              "\n",
              "          const docLinkHtml = 'Like what you see? Visit the ' +\n",
              "            '<a target=\"_blank\" href=https://colab.research.google.com/notebooks/data_table.ipynb>data table notebook</a>'\n",
              "            + ' to learn more about interactive tables.';\n",
              "          element.innerHTML = '';\n",
              "          dataTable['output_type'] = 'display_data';\n",
              "          await google.colab.output.renderOutput(dataTable, element);\n",
              "          const docLink = document.createElement('div');\n",
              "          docLink.innerHTML = docLinkHtml;\n",
              "          element.appendChild(docLink);\n",
              "        }\n",
              "      </script>\n",
              "    </div>\n",
              "  </div>\n",
              "  "
            ]
          },
          "metadata": {},
          "execution_count": 72
        }
      ]
    },
    {
      "cell_type": "code",
      "source": [
        "# Checking the shape of new dataframe\n",
        "print(\"The shape of new dataframe is\",df.shape)\n",
        "print(\"\\n\")\n",
        "\n",
        "# Checking the info\n",
        "df.info()"
      ],
      "metadata": {
        "colab": {
          "base_uri": "https://localhost:8080/"
        },
        "id": "5WaICsk2u-Cp",
        "outputId": "50fe2ff8-9816-45dd-8f6d-156b1b5ada5e"
      },
      "execution_count": 73,
      "outputs": [
        {
          "output_type": "stream",
          "name": "stdout",
          "text": [
            "The shape of new dataframe is (1017209, 18)\n",
            "\n",
            "\n",
            "<class 'pandas.core.frame.DataFrame'>\n",
            "Int64Index: 1017209 entries, 0 to 1017208\n",
            "Data columns (total 18 columns):\n",
            " #   Column                     Non-Null Count    Dtype         \n",
            "---  ------                     --------------    -----         \n",
            " 0   Store                      1017209 non-null  int64         \n",
            " 1   DayOfWeek                  1017209 non-null  int64         \n",
            " 2   Date                       1017209 non-null  datetime64[ns]\n",
            " 3   Sales                      1017209 non-null  int64         \n",
            " 4   Customers                  1017209 non-null  int64         \n",
            " 5   Open                       1017209 non-null  int64         \n",
            " 6   Promo                      1017209 non-null  int64         \n",
            " 7   StateHoliday               1017209 non-null  object        \n",
            " 8   SchoolHoliday              1017209 non-null  int64         \n",
            " 9   StoreType                  1017209 non-null  object        \n",
            " 10  Assortment                 1017209 non-null  object        \n",
            " 11  CompetitionDistance        1017209 non-null  float64       \n",
            " 12  CompetitionOpenSinceMonth  1017209 non-null  float64       \n",
            " 13  CompetitionOpenSinceYear   1017209 non-null  float64       \n",
            " 14  Promo2                     1017209 non-null  int64         \n",
            " 15  Promo2SinceWeek            1017209 non-null  float64       \n",
            " 16  Promo2SinceYear            1017209 non-null  float64       \n",
            " 17  PromoInterval              1017209 non-null  object        \n",
            "dtypes: datetime64[ns](1), float64(5), int64(8), object(4)\n",
            "memory usage: 147.5+ MB\n"
          ]
        }
      ]
    },
    {
      "cell_type": "code",
      "source": [
        "# Changing the datatype\n",
        "df['StateHoliday']=df['StateHoliday'].convert_dtypes('int64')\n",
        "# df['StoreType']=df['StoreType'].convert_dtypes('int64')\n",
        "# df['Assortment']=df['Assortment'].convert_dtypes('int64')\n",
        "df['CompetitionDistance']=df['CompetitionDistance'].convert_dtypes('int64')\n",
        "df['CompetitionOpenSinceMonth']=df['CompetitionOpenSinceMonth'].convert_dtypes('int64')\n",
        "df['CompetitionOpenSinceYear']=df['CompetitionOpenSinceYear'].convert_dtypes('int64')\n",
        "df['Promo2SinceWeek']=df['Promo2SinceWeek'].convert_dtypes('int64')\n",
        "df['Promo2SinceYear']=df['Promo2SinceYear'].convert_dtypes('int64')\n",
        "\n",
        "# Mapping Categorical columns to numerical values\n",
        "df['StoreType']    = df['StoreType'].map({'a':1,'b':2,'c':3,'d':4})\n",
        "df['Assortment']   = df['Assortment'].map({'a':0, 'c':1,'b':2})\n",
        "df['PromoInterval']= df['PromoInterval'].map({'Jan,Apr,Jul,Oct':0, 'Feb,May,Aug,Nov':1,'Mar,Jun,Sept,Dec':2})\n"
      ],
      "metadata": {
        "id": "q7RMdHkt1QrQ"
      },
      "execution_count": 74,
      "outputs": []
    },
    {
      "cell_type": "code",
      "source": [
        "df.describe()"
      ],
      "metadata": {
        "colab": {
          "base_uri": "https://localhost:8080/",
          "height": 364
        },
        "id": "LgJbUpxqwo2-",
        "outputId": "a6477e92-0ed7-41fd-b24b-d10bcaa0501b"
      },
      "execution_count": 75,
      "outputs": [
        {
          "output_type": "execute_result",
          "data": {
            "text/plain": [
              "              Store     DayOfWeek         Sales     Customers          Open  \\\n",
              "count  1.017209e+06  1.017209e+06  1.017209e+06  1.017209e+06  1.017209e+06   \n",
              "mean   5.584297e+02  3.998341e+00  5.773819e+03  6.331459e+02  8.301067e-01   \n",
              "std    3.219087e+02  1.997391e+00  3.849926e+03  4.644117e+02  3.755392e-01   \n",
              "min    1.000000e+00  1.000000e+00  0.000000e+00  0.000000e+00  0.000000e+00   \n",
              "25%    2.800000e+02  2.000000e+00  3.727000e+03  4.050000e+02  1.000000e+00   \n",
              "50%    5.580000e+02  4.000000e+00  5.744000e+03  6.090000e+02  1.000000e+00   \n",
              "75%    8.380000e+02  6.000000e+00  7.856000e+03  8.370000e+02  1.000000e+00   \n",
              "max    1.115000e+03  7.000000e+00  4.155100e+04  7.388000e+03  1.000000e+00   \n",
              "\n",
              "              Promo  SchoolHoliday     StoreType    Assortment  \\\n",
              "count  1.017209e+06   1.017209e+06  1.017209e+06  1.017209e+06   \n",
              "mean   3.815145e-01   1.786467e-01  2.207467e+00  4.798011e-01   \n",
              "std    4.857586e-01   3.830564e-01  1.365376e+00  5.156546e-01   \n",
              "min    0.000000e+00   0.000000e+00  1.000000e+00  0.000000e+00   \n",
              "25%    0.000000e+00   0.000000e+00  1.000000e+00  0.000000e+00   \n",
              "50%    0.000000e+00   0.000000e+00  1.000000e+00  0.000000e+00   \n",
              "75%    1.000000e+00   0.000000e+00  4.000000e+00  1.000000e+00   \n",
              "max    1.000000e+00   1.000000e+00  4.000000e+00  2.000000e+00   \n",
              "\n",
              "       CompetitionDistance  CompetitionOpenSinceMonth  \\\n",
              "count         1.017209e+06               1.017209e+06   \n",
              "mean          5.422021e+03               7.787777e+00   \n",
              "std           7.706918e+03               2.778755e+00   \n",
              "min           2.000000e+01               1.000000e+00   \n",
              "25%           7.100000e+02               6.000000e+00   \n",
              "50%           2.325000e+03               9.000000e+00   \n",
              "75%           6.880000e+03               9.000000e+00   \n",
              "max           7.586000e+04               1.200000e+01   \n",
              "\n",
              "       CompetitionOpenSinceYear        Promo2  Promo2SinceWeek  \\\n",
              "count              1.017209e+06  1.017209e+06     1.017209e+06   \n",
              "mean               2.010060e+03  5.005638e-01     1.164767e+01   \n",
              "std                5.340757e+00  4.999999e-01     1.532393e+01   \n",
              "min                1.900000e+03  0.000000e+00     0.000000e+00   \n",
              "25%                2.008000e+03  0.000000e+00     0.000000e+00   \n",
              "50%                2.012000e+03  1.000000e+00     1.000000e+00   \n",
              "75%                2.013000e+03  1.000000e+00     2.200000e+01   \n",
              "max                2.015000e+03  1.000000e+00     5.000000e+01   \n",
              "\n",
              "       Promo2SinceYear  PromoInterval  \n",
              "count     1.017209e+06  509178.000000  \n",
              "mean      1.007011e+03       0.615730  \n",
              "std       1.005877e+03       0.787033  \n",
              "min       0.000000e+00       0.000000  \n",
              "25%       0.000000e+00       0.000000  \n",
              "50%       2.009000e+03       0.000000  \n",
              "75%       2.012000e+03       1.000000  \n",
              "max       2.015000e+03       2.000000  "
            ],
            "text/html": [
              "\n",
              "  <div id=\"df-63b3adae-c357-4b23-8721-1dafa2c4a62e\">\n",
              "    <div class=\"colab-df-container\">\n",
              "      <div>\n",
              "<style scoped>\n",
              "    .dataframe tbody tr th:only-of-type {\n",
              "        vertical-align: middle;\n",
              "    }\n",
              "\n",
              "    .dataframe tbody tr th {\n",
              "        vertical-align: top;\n",
              "    }\n",
              "\n",
              "    .dataframe thead th {\n",
              "        text-align: right;\n",
              "    }\n",
              "</style>\n",
              "<table border=\"1\" class=\"dataframe\">\n",
              "  <thead>\n",
              "    <tr style=\"text-align: right;\">\n",
              "      <th></th>\n",
              "      <th>Store</th>\n",
              "      <th>DayOfWeek</th>\n",
              "      <th>Sales</th>\n",
              "      <th>Customers</th>\n",
              "      <th>Open</th>\n",
              "      <th>Promo</th>\n",
              "      <th>SchoolHoliday</th>\n",
              "      <th>StoreType</th>\n",
              "      <th>Assortment</th>\n",
              "      <th>CompetitionDistance</th>\n",
              "      <th>CompetitionOpenSinceMonth</th>\n",
              "      <th>CompetitionOpenSinceYear</th>\n",
              "      <th>Promo2</th>\n",
              "      <th>Promo2SinceWeek</th>\n",
              "      <th>Promo2SinceYear</th>\n",
              "      <th>PromoInterval</th>\n",
              "    </tr>\n",
              "  </thead>\n",
              "  <tbody>\n",
              "    <tr>\n",
              "      <th>count</th>\n",
              "      <td>1.017209e+06</td>\n",
              "      <td>1.017209e+06</td>\n",
              "      <td>1.017209e+06</td>\n",
              "      <td>1.017209e+06</td>\n",
              "      <td>1.017209e+06</td>\n",
              "      <td>1.017209e+06</td>\n",
              "      <td>1.017209e+06</td>\n",
              "      <td>1.017209e+06</td>\n",
              "      <td>1.017209e+06</td>\n",
              "      <td>1.017209e+06</td>\n",
              "      <td>1.017209e+06</td>\n",
              "      <td>1.017209e+06</td>\n",
              "      <td>1.017209e+06</td>\n",
              "      <td>1.017209e+06</td>\n",
              "      <td>1.017209e+06</td>\n",
              "      <td>509178.000000</td>\n",
              "    </tr>\n",
              "    <tr>\n",
              "      <th>mean</th>\n",
              "      <td>5.584297e+02</td>\n",
              "      <td>3.998341e+00</td>\n",
              "      <td>5.773819e+03</td>\n",
              "      <td>6.331459e+02</td>\n",
              "      <td>8.301067e-01</td>\n",
              "      <td>3.815145e-01</td>\n",
              "      <td>1.786467e-01</td>\n",
              "      <td>2.207467e+00</td>\n",
              "      <td>4.798011e-01</td>\n",
              "      <td>5.422021e+03</td>\n",
              "      <td>7.787777e+00</td>\n",
              "      <td>2.010060e+03</td>\n",
              "      <td>5.005638e-01</td>\n",
              "      <td>1.164767e+01</td>\n",
              "      <td>1.007011e+03</td>\n",
              "      <td>0.615730</td>\n",
              "    </tr>\n",
              "    <tr>\n",
              "      <th>std</th>\n",
              "      <td>3.219087e+02</td>\n",
              "      <td>1.997391e+00</td>\n",
              "      <td>3.849926e+03</td>\n",
              "      <td>4.644117e+02</td>\n",
              "      <td>3.755392e-01</td>\n",
              "      <td>4.857586e-01</td>\n",
              "      <td>3.830564e-01</td>\n",
              "      <td>1.365376e+00</td>\n",
              "      <td>5.156546e-01</td>\n",
              "      <td>7.706918e+03</td>\n",
              "      <td>2.778755e+00</td>\n",
              "      <td>5.340757e+00</td>\n",
              "      <td>4.999999e-01</td>\n",
              "      <td>1.532393e+01</td>\n",
              "      <td>1.005877e+03</td>\n",
              "      <td>0.787033</td>\n",
              "    </tr>\n",
              "    <tr>\n",
              "      <th>min</th>\n",
              "      <td>1.000000e+00</td>\n",
              "      <td>1.000000e+00</td>\n",
              "      <td>0.000000e+00</td>\n",
              "      <td>0.000000e+00</td>\n",
              "      <td>0.000000e+00</td>\n",
              "      <td>0.000000e+00</td>\n",
              "      <td>0.000000e+00</td>\n",
              "      <td>1.000000e+00</td>\n",
              "      <td>0.000000e+00</td>\n",
              "      <td>2.000000e+01</td>\n",
              "      <td>1.000000e+00</td>\n",
              "      <td>1.900000e+03</td>\n",
              "      <td>0.000000e+00</td>\n",
              "      <td>0.000000e+00</td>\n",
              "      <td>0.000000e+00</td>\n",
              "      <td>0.000000</td>\n",
              "    </tr>\n",
              "    <tr>\n",
              "      <th>25%</th>\n",
              "      <td>2.800000e+02</td>\n",
              "      <td>2.000000e+00</td>\n",
              "      <td>3.727000e+03</td>\n",
              "      <td>4.050000e+02</td>\n",
              "      <td>1.000000e+00</td>\n",
              "      <td>0.000000e+00</td>\n",
              "      <td>0.000000e+00</td>\n",
              "      <td>1.000000e+00</td>\n",
              "      <td>0.000000e+00</td>\n",
              "      <td>7.100000e+02</td>\n",
              "      <td>6.000000e+00</td>\n",
              "      <td>2.008000e+03</td>\n",
              "      <td>0.000000e+00</td>\n",
              "      <td>0.000000e+00</td>\n",
              "      <td>0.000000e+00</td>\n",
              "      <td>0.000000</td>\n",
              "    </tr>\n",
              "    <tr>\n",
              "      <th>50%</th>\n",
              "      <td>5.580000e+02</td>\n",
              "      <td>4.000000e+00</td>\n",
              "      <td>5.744000e+03</td>\n",
              "      <td>6.090000e+02</td>\n",
              "      <td>1.000000e+00</td>\n",
              "      <td>0.000000e+00</td>\n",
              "      <td>0.000000e+00</td>\n",
              "      <td>1.000000e+00</td>\n",
              "      <td>0.000000e+00</td>\n",
              "      <td>2.325000e+03</td>\n",
              "      <td>9.000000e+00</td>\n",
              "      <td>2.012000e+03</td>\n",
              "      <td>1.000000e+00</td>\n",
              "      <td>1.000000e+00</td>\n",
              "      <td>2.009000e+03</td>\n",
              "      <td>0.000000</td>\n",
              "    </tr>\n",
              "    <tr>\n",
              "      <th>75%</th>\n",
              "      <td>8.380000e+02</td>\n",
              "      <td>6.000000e+00</td>\n",
              "      <td>7.856000e+03</td>\n",
              "      <td>8.370000e+02</td>\n",
              "      <td>1.000000e+00</td>\n",
              "      <td>1.000000e+00</td>\n",
              "      <td>0.000000e+00</td>\n",
              "      <td>4.000000e+00</td>\n",
              "      <td>1.000000e+00</td>\n",
              "      <td>6.880000e+03</td>\n",
              "      <td>9.000000e+00</td>\n",
              "      <td>2.013000e+03</td>\n",
              "      <td>1.000000e+00</td>\n",
              "      <td>2.200000e+01</td>\n",
              "      <td>2.012000e+03</td>\n",
              "      <td>1.000000</td>\n",
              "    </tr>\n",
              "    <tr>\n",
              "      <th>max</th>\n",
              "      <td>1.115000e+03</td>\n",
              "      <td>7.000000e+00</td>\n",
              "      <td>4.155100e+04</td>\n",
              "      <td>7.388000e+03</td>\n",
              "      <td>1.000000e+00</td>\n",
              "      <td>1.000000e+00</td>\n",
              "      <td>1.000000e+00</td>\n",
              "      <td>4.000000e+00</td>\n",
              "      <td>2.000000e+00</td>\n",
              "      <td>7.586000e+04</td>\n",
              "      <td>1.200000e+01</td>\n",
              "      <td>2.015000e+03</td>\n",
              "      <td>1.000000e+00</td>\n",
              "      <td>5.000000e+01</td>\n",
              "      <td>2.015000e+03</td>\n",
              "      <td>2.000000</td>\n",
              "    </tr>\n",
              "  </tbody>\n",
              "</table>\n",
              "</div>\n",
              "      <button class=\"colab-df-convert\" onclick=\"convertToInteractive('df-63b3adae-c357-4b23-8721-1dafa2c4a62e')\"\n",
              "              title=\"Convert this dataframe to an interactive table.\"\n",
              "              style=\"display:none;\">\n",
              "        \n",
              "  <svg xmlns=\"http://www.w3.org/2000/svg\" height=\"24px\"viewBox=\"0 0 24 24\"\n",
              "       width=\"24px\">\n",
              "    <path d=\"M0 0h24v24H0V0z\" fill=\"none\"/>\n",
              "    <path d=\"M18.56 5.44l.94 2.06.94-2.06 2.06-.94-2.06-.94-.94-2.06-.94 2.06-2.06.94zm-11 1L8.5 8.5l.94-2.06 2.06-.94-2.06-.94L8.5 2.5l-.94 2.06-2.06.94zm10 10l.94 2.06.94-2.06 2.06-.94-2.06-.94-.94-2.06-.94 2.06-2.06.94z\"/><path d=\"M17.41 7.96l-1.37-1.37c-.4-.4-.92-.59-1.43-.59-.52 0-1.04.2-1.43.59L10.3 9.45l-7.72 7.72c-.78.78-.78 2.05 0 2.83L4 21.41c.39.39.9.59 1.41.59.51 0 1.02-.2 1.41-.59l7.78-7.78 2.81-2.81c.8-.78.8-2.07 0-2.86zM5.41 20L4 18.59l7.72-7.72 1.47 1.35L5.41 20z\"/>\n",
              "  </svg>\n",
              "      </button>\n",
              "      \n",
              "  <style>\n",
              "    .colab-df-container {\n",
              "      display:flex;\n",
              "      flex-wrap:wrap;\n",
              "      gap: 12px;\n",
              "    }\n",
              "\n",
              "    .colab-df-convert {\n",
              "      background-color: #E8F0FE;\n",
              "      border: none;\n",
              "      border-radius: 50%;\n",
              "      cursor: pointer;\n",
              "      display: none;\n",
              "      fill: #1967D2;\n",
              "      height: 32px;\n",
              "      padding: 0 0 0 0;\n",
              "      width: 32px;\n",
              "    }\n",
              "\n",
              "    .colab-df-convert:hover {\n",
              "      background-color: #E2EBFA;\n",
              "      box-shadow: 0px 1px 2px rgba(60, 64, 67, 0.3), 0px 1px 3px 1px rgba(60, 64, 67, 0.15);\n",
              "      fill: #174EA6;\n",
              "    }\n",
              "\n",
              "    [theme=dark] .colab-df-convert {\n",
              "      background-color: #3B4455;\n",
              "      fill: #D2E3FC;\n",
              "    }\n",
              "\n",
              "    [theme=dark] .colab-df-convert:hover {\n",
              "      background-color: #434B5C;\n",
              "      box-shadow: 0px 1px 3px 1px rgba(0, 0, 0, 0.15);\n",
              "      filter: drop-shadow(0px 1px 2px rgba(0, 0, 0, 0.3));\n",
              "      fill: #FFFFFF;\n",
              "    }\n",
              "  </style>\n",
              "\n",
              "      <script>\n",
              "        const buttonEl =\n",
              "          document.querySelector('#df-63b3adae-c357-4b23-8721-1dafa2c4a62e button.colab-df-convert');\n",
              "        buttonEl.style.display =\n",
              "          google.colab.kernel.accessAllowed ? 'block' : 'none';\n",
              "\n",
              "        async function convertToInteractive(key) {\n",
              "          const element = document.querySelector('#df-63b3adae-c357-4b23-8721-1dafa2c4a62e');\n",
              "          const dataTable =\n",
              "            await google.colab.kernel.invokeFunction('convertToInteractive',\n",
              "                                                     [key], {});\n",
              "          if (!dataTable) return;\n",
              "\n",
              "          const docLinkHtml = 'Like what you see? Visit the ' +\n",
              "            '<a target=\"_blank\" href=https://colab.research.google.com/notebooks/data_table.ipynb>data table notebook</a>'\n",
              "            + ' to learn more about interactive tables.';\n",
              "          element.innerHTML = '';\n",
              "          dataTable['output_type'] = 'display_data';\n",
              "          await google.colab.output.renderOutput(dataTable, element);\n",
              "          const docLink = document.createElement('div');\n",
              "          docLink.innerHTML = docLinkHtml;\n",
              "          element.appendChild(docLink);\n",
              "        }\n",
              "      </script>\n",
              "    </div>\n",
              "  </div>\n",
              "  "
            ]
          },
          "metadata": {},
          "execution_count": 75
        }
      ]
    },
    {
      "cell_type": "markdown",
      "source": [
        "### What all manipulations have you done and insights you found?"
      ],
      "metadata": {
        "id": "MSa1f5Uengrz"
      }
    },
    {
      "cell_type": "markdown",
      "source": [
        "Answer Here."
      ],
      "metadata": {
        "id": "LbyXE7I1olp8"
      }
    },
    {
      "cell_type": "markdown",
      "source": [
        "## ***4. Data Vizualization, Storytelling & Experimenting with charts : Understand the relationships between variables***"
      ],
      "metadata": {
        "id": "GF8Ens_Soomf"
      }
    },
    {
      "cell_type": "markdown",
      "source": [
        "###Univariate Analysis"
      ],
      "metadata": {
        "id": "lv0ORhAnw46X"
      }
    },
    {
      "cell_type": "code",
      "source": [
        "# Store\n",
        "plt.figure(figsize=(15,5))\n",
        "sns.histplot(df['Store'])\n",
        "plt.show()"
      ],
      "metadata": {
        "colab": {
          "base_uri": "https://localhost:8080/",
          "height": 334
        },
        "id": "W0HuUR5FxBN5",
        "outputId": "096019d7-8859-4771-af23-10d9c7f209fd"
      },
      "execution_count": 76,
      "outputs": [
        {
          "output_type": "display_data",
          "data": {
            "text/plain": [
              "<Figure size 1080x360 with 1 Axes>"
            ],
            "image/png": "[encoded data removed]"
          },
          "metadata": {
            "needs_background": "light"
          }
        }
      ]
    },
    {
      "cell_type": "code",
      "source": [
        "# Store\n",
        "plt.figure(figsize=(3,3))\n",
        "sns.histplot(df['DayOfWeek'])\n",
        "\n",
        "# Store\n",
        "plt.figure(figsize=(10,3))\n",
        "sns.histplot(df['Date'])\n",
        "plt.show()"
      ],
      "metadata": {
        "colab": {
          "base_uri": "https://localhost:8080/",
          "height": 433
        },
        "id": "hUzlYKT6xwSE",
        "outputId": "d99ef518-24cc-4acc-b348-0acddb5f7cae"
      },
      "execution_count": 77,
      "outputs": [
        {
          "output_type": "display_data",
          "data": {
            "text/plain": [
              "<Figure size 216x216 with 1 Axes>"
            ],
            "image/png": "[encoded data removed]"
          },
          "metadata": {
            "needs_background": "light"
          }
        },
        {
          "output_type": "display_data",
          "data": {
            "text/plain": [
              "<Figure size 720x216 with 1 Axes>"
            ],
            "image/png": "[encoded data removed]"
          },
          "metadata": {
            "needs_background": "light"
          }
        }
      ]
    },
    {
      "cell_type": "code",
      "source": [
        "# Date\n",
        "plt.figure(figsize=(10,5))\n",
        "plt.subplot(1,2,1)\n",
        "sns.boxplot(df['Sales'])\n",
        "\n",
        "# Customers\n",
        "plt.subplot(1,2,2)\n",
        "sns.boxplot(df['Customers'])\n",
        "plt.show()"
      ],
      "metadata": {
        "colab": {
          "base_uri": "https://localhost:8080/",
          "height": 334
        },
        "id": "aXJEPFDwyS1k",
        "outputId": "187420db-6f48-4bd4-a419-4ca75a319f39"
      },
      "execution_count": 78,
      "outputs": [
        {
          "output_type": "display_data",
          "data": {
            "text/plain": [
              "<Figure size 720x360 with 2 Axes>"
            ],
            "image/png": "[encoded data removed]"
          },
          "metadata": {
            "needs_background": "light"
          }
        }
      ]
    },
    {
      "cell_type": "code",
      "source": [
        "fig = plt.figure(figsize=(10,10)) \n",
        "fig_dims = (3, 2)\n",
        "\n",
        "plt.subplot2grid(fig_dims, (0, 0))\n",
        "df['Open'].value_counts().plot(kind='bar', \n",
        "                                     title='Open')\n",
        "plt.subplot2grid(fig_dims, (0, 1))\n",
        "df['Promo'].value_counts().plot(kind='bar', \n",
        "                                     title='Promo')\n",
        "plt.subplot2grid(fig_dims, (1, 0))\n",
        "df['StateHoliday'].value_counts().plot(kind='bar', \n",
        "                                     title='StateHoliday')\n",
        "plt.subplot2grid(fig_dims, (1, 1))\n",
        "df['SchoolHoliday'].value_counts().plot(kind='bar', \n",
        "                                     title='SchoolHoliday')"
      ],
      "metadata": {
        "colab": {
          "base_uri": "https://localhost:8080/",
          "height": 429
        },
        "id": "KOjpIyo839VG",
        "outputId": "992ff4c2-747e-4eff-c4b9-6047a53f7cd8"
      },
      "execution_count": 79,
      "outputs": [
        {
          "output_type": "execute_result",
          "data": {
            "text/plain": [
              "<matplotlib.axes._subplots.AxesSubplot at 0x7f5d75125e20>"
            ]
          },
          "metadata": {},
          "execution_count": 79
        },
        {
          "output_type": "display_data",
          "data": {
            "text/plain": [
              "<Figure size 720x720 with 4 Axes>"
            ],
            "image/png": "[encoded data removed]"
          },
          "metadata": {
            "needs_background": "light"
          }
        }
      ]
    },
    {
      "cell_type": "code",
      "source": [
        "fig = plt.figure(figsize=(10,10)) \n",
        "fig_dims = (3, 2)\n",
        "\n",
        "\n",
        "# Plot accidents depending on type\n",
        "plt.subplot2grid(fig_dims, (0, 0))\n",
        "df['StoreType'].value_counts().plot(kind='bar', \n",
        "                                     title='StoreType')\n",
        "plt.subplot2grid(fig_dims, (0, 1))\n",
        "df['CompetitionDistance'].value_counts().plot(kind='hist', \n",
        "                                     title='CompetitionDistance')\n",
        "plt.subplot2grid(fig_dims, (1, 0))\n",
        "df['CompetitionOpenSinceMonth'].value_counts().plot(kind='bar', \n",
        "                                     title='CompetitionOpenSinceMonth')\n",
        "plt.subplot2grid(fig_dims, (1, 1))\n",
        "df['CompetitionOpenSinceYear'].value_counts().plot(kind='bar', \n",
        "                                     title='CompetitionOpenSinceYear')"
      ],
      "metadata": {
        "colab": {
          "base_uri": "https://localhost:8080/",
          "height": 448
        },
        "id": "3hGgM-Vq5-h3",
        "outputId": "e308d887-6343-4d7b-9c4e-2d77e0161cfb"
      },
      "execution_count": 80,
      "outputs": [
        {
          "output_type": "execute_result",
          "data": {
            "text/plain": [
              "<matplotlib.axes._subplots.AxesSubplot at 0x7f5d75cf2c10>"
            ]
          },
          "metadata": {},
          "execution_count": 80
        },
        {
          "output_type": "display_data",
          "data": {
            "text/plain": [
              "<Figure size 720x720 with 4 Axes>"
            ],
            "image/png": "[encoded data removed]"
          },
          "metadata": {
            "needs_background": "light"
          }
        }
      ]
    },
    {
      "cell_type": "code",
      "source": [
        "df['Assortment'].value_counts().plot(kind='bar', \n",
        "                                     title='Assortment')"
      ],
      "metadata": {
        "colab": {
          "base_uri": "https://localhost:8080/",
          "height": 295
        },
        "id": "Y59C7jFGLOeu",
        "outputId": "3d1fdb1f-95b4-4ee3-9b0e-4ea977a80d4a"
      },
      "execution_count": 81,
      "outputs": [
        {
          "output_type": "execute_result",
          "data": {
            "text/plain": [
              "<matplotlib.axes._subplots.AxesSubplot at 0x7f5d764b9700>"
            ]
          },
          "metadata": {},
          "execution_count": 81
        },
        {
          "output_type": "display_data",
          "data": {
            "text/plain": [
              "<Figure size 432x288 with 1 Axes>"
            ],
            "image/png": "[encoded data removed]"
          },
          "metadata": {
            "needs_background": "light"
          }
        }
      ]
    },
    {
      "cell_type": "code",
      "source": [
        "fig = plt.figure(figsize=(13,17)) \n",
        "fig_dims = (3, 2)\n",
        "\n",
        "plt.subplot2grid(fig_dims, (0, 0))\n",
        "df['Promo'].value_counts().plot(kind='bar', \n",
        "                                     title='Promo')\n",
        "plt.subplot2grid(fig_dims, (0, 1))\n",
        "df['Promo2SinceWeek'].value_counts().plot(kind='bar', \n",
        "                                     title='Promo2SinceWeek')\n",
        "plt.subplot2grid(fig_dims, (1, 0))\n",
        "df['Promo2SinceYear'].value_counts().plot(kind='bar', \n",
        "                                     title='Promo2SinceYear')\n",
        "plt.subplot2grid(fig_dims, (1, 1))\n",
        "df['PromoInterval'].value_counts().plot(kind='bar', \n",
        "                                     title='PromoInterval')"
      ],
      "metadata": {
        "colab": {
          "base_uri": "https://localhost:8080/",
          "height": 694
        },
        "id": "wMCIKNBo6zzA",
        "outputId": "3bb86add-4a5d-4407-b14c-2a3c521a4be4"
      },
      "execution_count": 82,
      "outputs": [
        {
          "output_type": "execute_result",
          "data": {
            "text/plain": [
              "<matplotlib.axes._subplots.AxesSubplot at 0x7f5d722a7190>"
            ]
          },
          "metadata": {},
          "execution_count": 82
        },
        {
          "output_type": "display_data",
          "data": {
            "text/plain": [
              "<Figure size 936x1224 with 4 Axes>"
            ],
            "image/png": "[encoded data removed]"
          },
          "metadata": {
            "needs_background": "light"
          }
        }
      ]
    },
    {
      "cell_type": "markdown",
      "source": [
        "###Bivariate Analysis"
      ],
      "metadata": {
        "id": "WdAum3-U9NaH"
      }
    },
    {
      "cell_type": "code",
      "source": [
        "plt.figure(figsize=(20,10))\n",
        "\n",
        "plt.subplot(3,6,1)\n",
        "plt.scatter(x=df['Sales'],y=df['Store'])\n",
        "\n",
        "plt.subplot(3,6,2)\n",
        "plt.scatter(df['Sales'],df['Customers'])\n",
        "\n",
        "plt.subplot(3,6,3)\n",
        "plt.scatter(x=df['Sales'],y=df['Open'])\n",
        "\n",
        "plt.subplot(3,6,4)\n",
        "plt.scatter(df['Sales'],df['Promo'])\n",
        "\n",
        "# plt.subplot(3,6,5)\n",
        "# plt.scatter(df['Sales'],df['StateHoliday'])\n",
        "\n",
        "plt.subplot(3,6,6)\n",
        "plt.scatter(df['Sales'],df['SchoolHoliday'])\n",
        "\n",
        "plt.subplot(3,6,7)\n",
        "plt.scatter(x=df['Sales'],y=df['StoreType'])\n",
        "\n",
        "plt.subplot(3,6,8)\n",
        "plt.scatter(df['Sales'],df['CompetitionDistance'])\n",
        "\n",
        "plt.subplot(3,6,9)\n",
        "plt.scatter(x=df['Sales'],y=df['CompetitionOpenSinceMonth'])\n",
        "\n",
        "plt.subplot(3,6,10)\n",
        "plt.scatter(df['Sales'],df['CompetitionOpenSinceYear'])\n",
        "\n",
        "plt.subplot(3,6,11)\n",
        "plt.scatter(x=df['Sales'],y=df['Promo2'])\n",
        "\n",
        "plt.subplot(3,6,12)\n",
        "plt.scatter(df['Sales'],df['Promo2SinceWeek'])\n",
        "\n",
        "plt.subplot(3,6,13)\n",
        "plt.scatter(x=df['Sales'],y=df['Promo2SinceYear'])\n",
        "\n",
        "plt.subplot(3,6,14)\n",
        "plt.scatter(x=df['Sales'],y=df['Promo2SinceYear'])\n",
        "\n",
        "plt.subplot(3,6,15)\n",
        "plt.scatter(df['Sales'],df['Assortment'])"
      ],
      "metadata": {
        "colab": {
          "base_uri": "https://localhost:8080/",
          "height": 609
        },
        "id": "GcPHw-iu8xYk",
        "outputId": "331dd6d1-2475-42fe-8511-ebbd897c8fd0"
      },
      "execution_count": 91,
      "outputs": [
        {
          "output_type": "execute_result",
          "data": {
            "text/plain": [
              "<matplotlib.collections.PathCollection at 0x7f5d705545b0>"
            ]
          },
          "metadata": {},
          "execution_count": 91
        },
        {
          "output_type": "display_data",
          "data": {
            "text/plain": [
              "<Figure size 1440x720 with 14 Axes>"
            ],
            "image/png": "[encoded data removed]"
          },
          "metadata": {
            "needs_background": "light"
          }
        }
      ]
    },
    {
      "cell_type": "code",
      "source": [
        "plt.scatter(df['Sales'],df['StateHoliday'])"
      ],
      "metadata": {
        "id": "g8cntQ8YAlaL",
        "colab": {
          "base_uri": "https://localhost:8080/",
          "height": 563
        },
        "outputId": "1b1050dd-2fd6-42d9-f73d-e521b2f0a1c4"
      },
      "execution_count": 84,
      "outputs": [
        {
          "output_type": "error",
          "ename": "TypeError",
          "evalue": "ignored",
          "traceback": [
            "\u001b[0;31m---------------------------------------------------------------------------\u001b[0m",
            "\u001b[0;31mTypeError\u001b[0m                                 Traceback (most recent call last)",
            "\u001b[0;32m<ipython-input-84-c872872717d3>\u001b[0m in \u001b[0;36m<module>\u001b[0;34m\u001b[0m\n\u001b[0;32m----> 1\u001b[0;31m \u001b[0mplt\u001b[0m\u001b[0;34m.\u001b[0m\u001b[0mscatter\u001b[0m\u001b[0;34m(\u001b[0m\u001b[0mdf\u001b[0m\u001b[0;34m[\u001b[0m\u001b[0;34m'Sales'\u001b[0m\u001b[0;34m]\u001b[0m\u001b[0;34m,\u001b[0m\u001b[0mdf\u001b[0m\u001b[0;34m[\u001b[0m\u001b[0;34m'StateHoliday'\u001b[0m\u001b[0;34m]\u001b[0m\u001b[0;34m)\u001b[0m\u001b[0;34m\u001b[0m\u001b[0;34m\u001b[0m\u001b[0m\n\u001b[0m",
            "\u001b[0;32m/usr/local/lib/python3.8/dist-packages/matplotlib/pyplot.py\u001b[0m in \u001b[0;36mscatter\u001b[0;34m(x, y, s, c, marker, cmap, norm, vmin, vmax, alpha, linewidths, verts, edgecolors, plotnonfinite, data, **kwargs)\u001b[0m\n\u001b[1;32m   2809\u001b[0m         \u001b[0mverts\u001b[0m\u001b[0;34m=\u001b[0m\u001b[0mcbook\u001b[0m\u001b[0;34m.\u001b[0m\u001b[0mdeprecation\u001b[0m\u001b[0;34m.\u001b[0m\u001b[0m_deprecated_parameter\u001b[0m\u001b[0;34m,\u001b[0m\u001b[0;34m\u001b[0m\u001b[0;34m\u001b[0m\u001b[0m\n\u001b[1;32m   2810\u001b[0m         edgecolors=None, *, plotnonfinite=False, data=None, **kwargs):\n\u001b[0;32m-> 2811\u001b[0;31m     __ret = gca().scatter(\n\u001b[0m\u001b[1;32m   2812\u001b[0m         \u001b[0mx\u001b[0m\u001b[0;34m,\u001b[0m \u001b[0my\u001b[0m\u001b[0;34m,\u001b[0m \u001b[0ms\u001b[0m\u001b[0;34m=\u001b[0m\u001b[0ms\u001b[0m\u001b[0;34m,\u001b[0m \u001b[0mc\u001b[0m\u001b[0;34m=\u001b[0m\u001b[0mc\u001b[0m\u001b[0;34m,\u001b[0m \u001b[0mmarker\u001b[0m\u001b[0;34m=\u001b[0m\u001b[0mmarker\u001b[0m\u001b[0;34m,\u001b[0m \u001b[0mcmap\u001b[0m\u001b[0;34m=\u001b[0m\u001b[0mcmap\u001b[0m\u001b[0;34m,\u001b[0m \u001b[0mnorm\u001b[0m\u001b[0;34m=\u001b[0m\u001b[0mnorm\u001b[0m\u001b[0;34m,\u001b[0m\u001b[0;34m\u001b[0m\u001b[0;34m\u001b[0m\u001b[0m\n\u001b[1;32m   2813\u001b[0m         \u001b[0mvmin\u001b[0m\u001b[0;34m=\u001b[0m\u001b[0mvmin\u001b[0m\u001b[0;34m,\u001b[0m \u001b[0mvmax\u001b[0m\u001b[0;34m=\u001b[0m\u001b[0mvmax\u001b[0m\u001b[0;34m,\u001b[0m \u001b[0malpha\u001b[0m\u001b[0;34m=\u001b[0m\u001b[0malpha\u001b[0m\u001b[0;34m,\u001b[0m \u001b[0mlinewidths\u001b[0m\u001b[0;34m=\u001b[0m\u001b[0mlinewidths\u001b[0m\u001b[0;34m,\u001b[0m\u001b[0;34m\u001b[0m\u001b[0;34m\u001b[0m\u001b[0m\n",
            "\u001b[0;32m/usr/local/lib/python3.8/dist-packages/matplotlib/__init__.py\u001b[0m in \u001b[0;36minner\u001b[0;34m(ax, data, *args, **kwargs)\u001b[0m\n\u001b[1;32m   1563\u001b[0m     \u001b[0;32mdef\u001b[0m \u001b[0minner\u001b[0m\u001b[0;34m(\u001b[0m\u001b[0max\u001b[0m\u001b[0;34m,\u001b[0m \u001b[0;34m*\u001b[0m\u001b[0margs\u001b[0m\u001b[0;34m,\u001b[0m \u001b[0mdata\u001b[0m\u001b[0;34m=\u001b[0m\u001b[0;32mNone\u001b[0m\u001b[0;34m,\u001b[0m \u001b[0;34m**\u001b[0m\u001b[0mkwargs\u001b[0m\u001b[0;34m)\u001b[0m\u001b[0;34m:\u001b[0m\u001b[0;34m\u001b[0m\u001b[0;34m\u001b[0m\u001b[0m\n\u001b[1;32m   1564\u001b[0m         \u001b[0;32mif\u001b[0m \u001b[0mdata\u001b[0m \u001b[0;32mis\u001b[0m \u001b[0;32mNone\u001b[0m\u001b[0;34m:\u001b[0m\u001b[0;34m\u001b[0m\u001b[0;34m\u001b[0m\u001b[0m\n\u001b[0;32m-> 1565\u001b[0;31m             \u001b[0;32mreturn\u001b[0m \u001b[0mfunc\u001b[0m\u001b[0;34m(\u001b[0m\u001b[0max\u001b[0m\u001b[0;34m,\u001b[0m \u001b[0;34m*\u001b[0m\u001b[0mmap\u001b[0m\u001b[0;34m(\u001b[0m\u001b[0msanitize_sequence\u001b[0m\u001b[0;34m,\u001b[0m \u001b[0margs\u001b[0m\u001b[0;34m)\u001b[0m\u001b[0;34m,\u001b[0m \u001b[0;34m**\u001b[0m\u001b[0mkwargs\u001b[0m\u001b[0;34m)\u001b[0m\u001b[0;34m\u001b[0m\u001b[0;34m\u001b[0m\u001b[0m\n\u001b[0m\u001b[1;32m   1566\u001b[0m \u001b[0;34m\u001b[0m\u001b[0m\n\u001b[1;32m   1567\u001b[0m         \u001b[0mbound\u001b[0m \u001b[0;34m=\u001b[0m \u001b[0mnew_sig\u001b[0m\u001b[0;34m.\u001b[0m\u001b[0mbind\u001b[0m\u001b[0;34m(\u001b[0m\u001b[0max\u001b[0m\u001b[0;34m,\u001b[0m \u001b[0;34m*\u001b[0m\u001b[0margs\u001b[0m\u001b[0;34m,\u001b[0m \u001b[0;34m**\u001b[0m\u001b[0mkwargs\u001b[0m\u001b[0;34m)\u001b[0m\u001b[0;34m\u001b[0m\u001b[0;34m\u001b[0m\u001b[0m\n",
            "\u001b[0;32m/usr/local/lib/python3.8/dist-packages/matplotlib/cbook/deprecation.py\u001b[0m in \u001b[0;36mwrapper\u001b[0;34m(*args, **kwargs)\u001b[0m\n\u001b[1;32m    356\u001b[0m                 \u001b[0;34mf\"%(removal)s.  If any parameter follows {name!r}, they \"\u001b[0m\u001b[0;34m\u001b[0m\u001b[0;34m\u001b[0m\u001b[0m\n\u001b[1;32m    357\u001b[0m                 f\"should be pass as keyword, not positionally.\")\n\u001b[0;32m--> 358\u001b[0;31m         \u001b[0;32mreturn\u001b[0m \u001b[0mfunc\u001b[0m\u001b[0;34m(\u001b[0m\u001b[0;34m*\u001b[0m\u001b[0margs\u001b[0m\u001b[0;34m,\u001b[0m \u001b[0;34m**\u001b[0m\u001b[0mkwargs\u001b[0m\u001b[0;34m)\u001b[0m\u001b[0;34m\u001b[0m\u001b[0;34m\u001b[0m\u001b[0m\n\u001b[0m\u001b[1;32m    359\u001b[0m \u001b[0;34m\u001b[0m\u001b[0m\n\u001b[1;32m    360\u001b[0m     \u001b[0;32mreturn\u001b[0m \u001b[0mwrapper\u001b[0m\u001b[0;34m\u001b[0m\u001b[0;34m\u001b[0m\u001b[0m\n",
            "\u001b[0;32m/usr/local/lib/python3.8/dist-packages/matplotlib/axes/_axes.py\u001b[0m in \u001b[0;36mscatter\u001b[0;34m(self, x, y, s, c, marker, cmap, norm, vmin, vmax, alpha, linewidths, verts, edgecolors, plotnonfinite, **kwargs)\u001b[0m\n\u001b[1;32m   4380\u001b[0m         \u001b[0;31m# Process **kwargs to handle aliases, conflicts with explicit kwargs:\u001b[0m\u001b[0;34m\u001b[0m\u001b[0;34m\u001b[0m\u001b[0;34m\u001b[0m\u001b[0m\n\u001b[1;32m   4381\u001b[0m \u001b[0;34m\u001b[0m\u001b[0m\n\u001b[0;32m-> 4382\u001b[0;31m         \u001b[0mself\u001b[0m\u001b[0;34m.\u001b[0m\u001b[0m_process_unit_info\u001b[0m\u001b[0;34m(\u001b[0m\u001b[0mxdata\u001b[0m\u001b[0;34m=\u001b[0m\u001b[0mx\u001b[0m\u001b[0;34m,\u001b[0m \u001b[0mydata\u001b[0m\u001b[0;34m=\u001b[0m\u001b[0my\u001b[0m\u001b[0;34m,\u001b[0m \u001b[0mkwargs\u001b[0m\u001b[0;34m=\u001b[0m\u001b[0mkwargs\u001b[0m\u001b[0;34m)\u001b[0m\u001b[0;34m\u001b[0m\u001b[0;34m\u001b[0m\u001b[0m\n\u001b[0m\u001b[1;32m   4383\u001b[0m         \u001b[0mx\u001b[0m \u001b[0;34m=\u001b[0m \u001b[0mself\u001b[0m\u001b[0;34m.\u001b[0m\u001b[0mconvert_xunits\u001b[0m\u001b[0;34m(\u001b[0m\u001b[0mx\u001b[0m\u001b[0;34m)\u001b[0m\u001b[0;34m\u001b[0m\u001b[0;34m\u001b[0m\u001b[0m\n\u001b[1;32m   4384\u001b[0m         \u001b[0my\u001b[0m \u001b[0;34m=\u001b[0m \u001b[0mself\u001b[0m\u001b[0;34m.\u001b[0m\u001b[0mconvert_yunits\u001b[0m\u001b[0;34m(\u001b[0m\u001b[0my\u001b[0m\u001b[0;34m)\u001b[0m\u001b[0;34m\u001b[0m\u001b[0;34m\u001b[0m\u001b[0m\n",
            "\u001b[0;32m/usr/local/lib/python3.8/dist-packages/matplotlib/axes/_base.py\u001b[0m in \u001b[0;36m_process_unit_info\u001b[0;34m(self, xdata, ydata, kwargs)\u001b[0m\n\u001b[1;32m   2072\u001b[0m \u001b[0;34m\u001b[0m\u001b[0m\n\u001b[1;32m   2073\u001b[0m         \u001b[0mkwargs\u001b[0m \u001b[0;34m=\u001b[0m \u001b[0m_process_single_axis\u001b[0m\u001b[0;34m(\u001b[0m\u001b[0mxdata\u001b[0m\u001b[0;34m,\u001b[0m \u001b[0mself\u001b[0m\u001b[0;34m.\u001b[0m\u001b[0mxaxis\u001b[0m\u001b[0;34m,\u001b[0m \u001b[0;34m'xunits'\u001b[0m\u001b[0;34m,\u001b[0m \u001b[0mkwargs\u001b[0m\u001b[0;34m)\u001b[0m\u001b[0;34m\u001b[0m\u001b[0;34m\u001b[0m\u001b[0m\n\u001b[0;32m-> 2074\u001b[0;31m         \u001b[0mkwargs\u001b[0m \u001b[0;34m=\u001b[0m \u001b[0m_process_single_axis\u001b[0m\u001b[0;34m(\u001b[0m\u001b[0mydata\u001b[0m\u001b[0;34m,\u001b[0m \u001b[0mself\u001b[0m\u001b[0;34m.\u001b[0m\u001b[0myaxis\u001b[0m\u001b[0;34m,\u001b[0m \u001b[0;34m'yunits'\u001b[0m\u001b[0;34m,\u001b[0m \u001b[0mkwargs\u001b[0m\u001b[0;34m)\u001b[0m\u001b[0;34m\u001b[0m\u001b[0;34m\u001b[0m\u001b[0m\n\u001b[0m\u001b[1;32m   2075\u001b[0m         \u001b[0;32mreturn\u001b[0m \u001b[0mkwargs\u001b[0m\u001b[0;34m\u001b[0m\u001b[0;34m\u001b[0m\u001b[0m\n\u001b[1;32m   2076\u001b[0m \u001b[0;34m\u001b[0m\u001b[0m\n",
            "\u001b[0;32m/usr/local/lib/python3.8/dist-packages/matplotlib/axes/_base.py\u001b[0m in \u001b[0;36m_process_single_axis\u001b[0;34m(data, axis, unit_name, kwargs)\u001b[0m\n\u001b[1;32m   2054\u001b[0m                 \u001b[0;31m# We only need to update if there is nothing set yet.\u001b[0m\u001b[0;34m\u001b[0m\u001b[0;34m\u001b[0m\u001b[0;34m\u001b[0m\u001b[0m\n\u001b[1;32m   2055\u001b[0m                 \u001b[0;32mif\u001b[0m \u001b[0;32mnot\u001b[0m \u001b[0maxis\u001b[0m\u001b[0;34m.\u001b[0m\u001b[0mhave_units\u001b[0m\u001b[0;34m(\u001b[0m\u001b[0;34m)\u001b[0m\u001b[0;34m:\u001b[0m\u001b[0;34m\u001b[0m\u001b[0;34m\u001b[0m\u001b[0m\n\u001b[0;32m-> 2056\u001b[0;31m                     \u001b[0maxis\u001b[0m\u001b[0;34m.\u001b[0m\u001b[0mupdate_units\u001b[0m\u001b[0;34m(\u001b[0m\u001b[0mdata\u001b[0m\u001b[0;34m)\u001b[0m\u001b[0;34m\u001b[0m\u001b[0;34m\u001b[0m\u001b[0m\n\u001b[0m\u001b[1;32m   2057\u001b[0m \u001b[0;34m\u001b[0m\u001b[0m\n\u001b[1;32m   2058\u001b[0m             \u001b[0;31m# Check for units in the kwargs, and if present update axis\u001b[0m\u001b[0;34m\u001b[0m\u001b[0;34m\u001b[0m\u001b[0;34m\u001b[0m\u001b[0m\n",
            "\u001b[0;32m/usr/local/lib/python3.8/dist-packages/matplotlib/axis.py\u001b[0m in \u001b[0;36mupdate_units\u001b[0;34m(self, data)\u001b[0m\n\u001b[1;32m   1514\u001b[0m         \u001b[0mneednew\u001b[0m \u001b[0;34m=\u001b[0m \u001b[0mself\u001b[0m\u001b[0;34m.\u001b[0m\u001b[0mconverter\u001b[0m \u001b[0;34m!=\u001b[0m \u001b[0mconverter\u001b[0m\u001b[0;34m\u001b[0m\u001b[0;34m\u001b[0m\u001b[0m\n\u001b[1;32m   1515\u001b[0m         \u001b[0mself\u001b[0m\u001b[0;34m.\u001b[0m\u001b[0mconverter\u001b[0m \u001b[0;34m=\u001b[0m \u001b[0mconverter\u001b[0m\u001b[0;34m\u001b[0m\u001b[0;34m\u001b[0m\u001b[0m\n\u001b[0;32m-> 1516\u001b[0;31m         \u001b[0mdefault\u001b[0m \u001b[0;34m=\u001b[0m \u001b[0mself\u001b[0m\u001b[0;34m.\u001b[0m\u001b[0mconverter\u001b[0m\u001b[0;34m.\u001b[0m\u001b[0mdefault_units\u001b[0m\u001b[0;34m(\u001b[0m\u001b[0mdata\u001b[0m\u001b[0;34m,\u001b[0m \u001b[0mself\u001b[0m\u001b[0;34m)\u001b[0m\u001b[0;34m\u001b[0m\u001b[0;34m\u001b[0m\u001b[0m\n\u001b[0m\u001b[1;32m   1517\u001b[0m         \u001b[0;32mif\u001b[0m \u001b[0mdefault\u001b[0m \u001b[0;32mis\u001b[0m \u001b[0;32mnot\u001b[0m \u001b[0;32mNone\u001b[0m \u001b[0;32mand\u001b[0m \u001b[0mself\u001b[0m\u001b[0;34m.\u001b[0m\u001b[0munits\u001b[0m \u001b[0;32mis\u001b[0m \u001b[0;32mNone\u001b[0m\u001b[0;34m:\u001b[0m\u001b[0;34m\u001b[0m\u001b[0;34m\u001b[0m\u001b[0m\n\u001b[1;32m   1518\u001b[0m             \u001b[0mself\u001b[0m\u001b[0;34m.\u001b[0m\u001b[0mset_units\u001b[0m\u001b[0;34m(\u001b[0m\u001b[0mdefault\u001b[0m\u001b[0;34m)\u001b[0m\u001b[0;34m\u001b[0m\u001b[0;34m\u001b[0m\u001b[0m\n",
            "\u001b[0;32m/usr/local/lib/python3.8/dist-packages/matplotlib/category.py\u001b[0m in \u001b[0;36mdefault_units\u001b[0;34m(data, axis)\u001b[0m\n\u001b[1;32m    105\u001b[0m         \u001b[0;31m# the conversion call stack is default_units -> axis_info -> convert\u001b[0m\u001b[0;34m\u001b[0m\u001b[0;34m\u001b[0m\u001b[0;34m\u001b[0m\u001b[0m\n\u001b[1;32m    106\u001b[0m         \u001b[0;32mif\u001b[0m \u001b[0maxis\u001b[0m\u001b[0;34m.\u001b[0m\u001b[0munits\u001b[0m \u001b[0;32mis\u001b[0m \u001b[0;32mNone\u001b[0m\u001b[0;34m:\u001b[0m\u001b[0;34m\u001b[0m\u001b[0;34m\u001b[0m\u001b[0m\n\u001b[0;32m--> 107\u001b[0;31m             \u001b[0maxis\u001b[0m\u001b[0;34m.\u001b[0m\u001b[0mset_units\u001b[0m\u001b[0;34m(\u001b[0m\u001b[0mUnitData\u001b[0m\u001b[0;34m(\u001b[0m\u001b[0mdata\u001b[0m\u001b[0;34m)\u001b[0m\u001b[0;34m)\u001b[0m\u001b[0;34m\u001b[0m\u001b[0;34m\u001b[0m\u001b[0m\n\u001b[0m\u001b[1;32m    108\u001b[0m         \u001b[0;32melse\u001b[0m\u001b[0;34m:\u001b[0m\u001b[0;34m\u001b[0m\u001b[0;34m\u001b[0m\u001b[0m\n\u001b[1;32m    109\u001b[0m             \u001b[0maxis\u001b[0m\u001b[0;34m.\u001b[0m\u001b[0munits\u001b[0m\u001b[0;34m.\u001b[0m\u001b[0mupdate\u001b[0m\u001b[0;34m(\u001b[0m\u001b[0mdata\u001b[0m\u001b[0;34m)\u001b[0m\u001b[0;34m\u001b[0m\u001b[0;34m\u001b[0m\u001b[0m\n",
            "\u001b[0;32m/usr/local/lib/python3.8/dist-packages/matplotlib/category.py\u001b[0m in \u001b[0;36m__init__\u001b[0;34m(self, data)\u001b[0m\n\u001b[1;32m    173\u001b[0m         \u001b[0mself\u001b[0m\u001b[0;34m.\u001b[0m\u001b[0m_counter\u001b[0m \u001b[0;34m=\u001b[0m \u001b[0mitertools\u001b[0m\u001b[0;34m.\u001b[0m\u001b[0mcount\u001b[0m\u001b[0;34m(\u001b[0m\u001b[0;34m)\u001b[0m\u001b[0;34m\u001b[0m\u001b[0;34m\u001b[0m\u001b[0m\n\u001b[1;32m    174\u001b[0m         \u001b[0;32mif\u001b[0m \u001b[0mdata\u001b[0m \u001b[0;32mis\u001b[0m \u001b[0;32mnot\u001b[0m \u001b[0;32mNone\u001b[0m\u001b[0;34m:\u001b[0m\u001b[0;34m\u001b[0m\u001b[0;34m\u001b[0m\u001b[0m\n\u001b[0;32m--> 175\u001b[0;31m             \u001b[0mself\u001b[0m\u001b[0;34m.\u001b[0m\u001b[0mupdate\u001b[0m\u001b[0;34m(\u001b[0m\u001b[0mdata\u001b[0m\u001b[0;34m)\u001b[0m\u001b[0;34m\u001b[0m\u001b[0;34m\u001b[0m\u001b[0m\n\u001b[0m\u001b[1;32m    176\u001b[0m \u001b[0;34m\u001b[0m\u001b[0m\n\u001b[1;32m    177\u001b[0m     \u001b[0;34m@\u001b[0m\u001b[0mstaticmethod\u001b[0m\u001b[0;34m\u001b[0m\u001b[0;34m\u001b[0m\u001b[0m\n",
            "\u001b[0;32m/usr/local/lib/python3.8/dist-packages/matplotlib/category.py\u001b[0m in \u001b[0;36mupdate\u001b[0;34m(self, data)\u001b[0m\n\u001b[1;32m    210\u001b[0m         \u001b[0;32mfor\u001b[0m \u001b[0mval\u001b[0m \u001b[0;32min\u001b[0m \u001b[0mOrderedDict\u001b[0m\u001b[0;34m.\u001b[0m\u001b[0mfromkeys\u001b[0m\u001b[0;34m(\u001b[0m\u001b[0mdata\u001b[0m\u001b[0;34m)\u001b[0m\u001b[0;34m:\u001b[0m\u001b[0;34m\u001b[0m\u001b[0;34m\u001b[0m\u001b[0m\n\u001b[1;32m    211\u001b[0m             \u001b[0;31m# OrderedDict just iterates over unique values in data.\u001b[0m\u001b[0;34m\u001b[0m\u001b[0;34m\u001b[0m\u001b[0;34m\u001b[0m\u001b[0m\n\u001b[0;32m--> 212\u001b[0;31m             \u001b[0mcbook\u001b[0m\u001b[0;34m.\u001b[0m\u001b[0m_check_isinstance\u001b[0m\u001b[0;34m(\u001b[0m\u001b[0;34m(\u001b[0m\u001b[0mstr\u001b[0m\u001b[0;34m,\u001b[0m \u001b[0mbytes\u001b[0m\u001b[0;34m)\u001b[0m\u001b[0;34m,\u001b[0m \u001b[0mvalue\u001b[0m\u001b[0;34m=\u001b[0m\u001b[0mval\u001b[0m\u001b[0;34m)\u001b[0m\u001b[0;34m\u001b[0m\u001b[0;34m\u001b[0m\u001b[0m\n\u001b[0m\u001b[1;32m    213\u001b[0m             \u001b[0;32mif\u001b[0m \u001b[0mconvertible\u001b[0m\u001b[0;34m:\u001b[0m\u001b[0;34m\u001b[0m\u001b[0;34m\u001b[0m\u001b[0m\n\u001b[1;32m    214\u001b[0m                 \u001b[0;31m# this will only be called so long as convertible is True.\u001b[0m\u001b[0;34m\u001b[0m\u001b[0;34m\u001b[0m\u001b[0;34m\u001b[0m\u001b[0m\n",
            "\u001b[0;32m/usr/local/lib/python3.8/dist-packages/matplotlib/cbook/__init__.py\u001b[0m in \u001b[0;36m_check_isinstance\u001b[0;34m(_types, **kwargs)\u001b[0m\n\u001b[1;32m   2121\u001b[0m     \u001b[0;32mfor\u001b[0m \u001b[0mk\u001b[0m\u001b[0;34m,\u001b[0m \u001b[0mv\u001b[0m \u001b[0;32min\u001b[0m \u001b[0mkwargs\u001b[0m\u001b[0;34m.\u001b[0m\u001b[0mitems\u001b[0m\u001b[0;34m(\u001b[0m\u001b[0;34m)\u001b[0m\u001b[0;34m:\u001b[0m\u001b[0;34m\u001b[0m\u001b[0;34m\u001b[0m\u001b[0m\n\u001b[1;32m   2122\u001b[0m         \u001b[0;32mif\u001b[0m \u001b[0;32mnot\u001b[0m \u001b[0misinstance\u001b[0m\u001b[0;34m(\u001b[0m\u001b[0mv\u001b[0m\u001b[0;34m,\u001b[0m \u001b[0mtypes\u001b[0m\u001b[0;34m)\u001b[0m\u001b[0;34m:\u001b[0m\u001b[0;34m\u001b[0m\u001b[0;34m\u001b[0m\u001b[0m\n\u001b[0;32m-> 2123\u001b[0;31m             raise TypeError(\n\u001b[0m\u001b[1;32m   2124\u001b[0m                 \"{!r} must be an instance of {}, not a {}\".format(\n\u001b[1;32m   2125\u001b[0m                     \u001b[0mk\u001b[0m\u001b[0;34m,\u001b[0m\u001b[0;34m\u001b[0m\u001b[0;34m\u001b[0m\u001b[0m\n",
            "\u001b[0;31mTypeError\u001b[0m: 'value' must be an instance of str or bytes, not a int"
          ]
        },
        {
          "output_type": "display_data",
          "data": {
            "text/plain": [
              "<Figure size 432x288 with 1 Axes>"
            ],
            "image/png": "[encoded data removed]"
          },
          "metadata": {
            "needs_background": "light"
          }
        }
      ]
    },
    {
      "cell_type": "code",
      "source": [],
      "metadata": {
        "id": "0389bzX5c2Vy"
      },
      "execution_count": null,
      "outputs": []
    }
  ]
}